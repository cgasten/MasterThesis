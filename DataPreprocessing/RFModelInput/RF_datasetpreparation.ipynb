{
 "cells": [
  {
   "cell_type": "markdown",
   "id": "0a50310a-f49f-4239-8a67-f0133d2a3061",
   "metadata": {},
   "source": [
    "# Preparation of Dataset for Random Forest"
   ]
  },
  {
   "cell_type": "markdown",
   "id": "e534e846-f7de-46bf-9462-b33753b0d9dc",
   "metadata": {},
   "source": [
    "@author: Caroline Gasten\n",
    "\n",
    "For the RF model data from different sources needs to be merged. In the following each of the products is subsequently added to a common dataframe:\n",
    "1. drought-conflict mapping (as also used on smalle spatial scale for logistic regression model)\n",
    "2. monthly DataCube variables which have already been prepared for the time period of interest\n",
    "3. other WPS Global Early Warning Tool variables which needed to be manually preprocessed\n",
    "4. conflict input variables which have been prepared as part of the conflict data preparation"
   ]
  },
  {
   "cell_type": "markdown",
   "id": "89abbba7-9e35-4f8f-9e6b-7060b677b1ce",
   "metadata": {},
   "source": [
    "## Settings"
   ]
  },
  {
   "cell_type": "code",
   "execution_count": null,
   "id": "d4d2646c-dcdb-4772-af87-b1fbbfc35a6d",
   "metadata": {},
   "outputs": [],
   "source": [
    "#import packages\n",
    "import h5py\n",
    "import os\n",
    "import tables\n",
    "import numpy as np\n",
    "import matplotlib.pyplot as plt\n",
    "import pandas as pd\n",
    "import datetime"
   ]
  },
  {
   "cell_type": "code",
   "execution_count": null,
   "id": "e178792c-8855-42f3-8b19-5d985a85bee1",
   "metadata": {},
   "outputs": [],
   "source": [
    "#required paths\n",
    "path_pv= r'C:\\Users\\gasten\\OneDrive - Stichting Deltares\\Documents\\02_Data\\Predictor Variables'#path to directory with all predictor variables\n",
    "path_dc_mapping = r'C:\\Users\\gasten\\OneDrive - Stichting Deltares\\Documents\\02_Data\\06_Drought_Conflict_Mapping'#path to mapped drought-conflict data\n",
    "path_conflict_input = r'C:\\Users\\gasten\\OneDrive - Stichting Deltares\\Documents\\02_Data\\04_Conflict_Data\\RF_input'#path to conflict input variables"
   ]
  },
  {
   "cell_type": "markdown",
   "id": "25bc0b16-83d8-4700-a10e-8fcfe144b010",
   "metadata": {},
   "source": [
    "## Functions"
   ]
  },
  {
   "cell_type": "code",
   "execution_count": null,
   "id": "a8cf02ef-592e-4b26-93f6-30f11b2166ae",
   "metadata": {},
   "outputs": [],
   "source": [
    "def year_from_unix(unix_date):\n",
    "    \"\"\"\n",
    "    The present function obtains a date in unix format and retrieves the year from the date\n",
    "    \"\"\"\n",
    "    unix_date_cropped = unix_date/1000000000\n",
    "    date = datetime.datetime.fromtimestamp(unix_date_cropped)\n",
    "    year = date.year\n",
    "    return year\n",
    "\n",
    "#vectorize the function to deal with arrays of unix dates\n",
    "year_from_unix_vec = np.vectorize(year_from_unix)   "
   ]
  },
  {
   "cell_type": "markdown",
   "id": "989f3217-9b41-4fea-ae83-772cf8de1d24",
   "metadata": {},
   "source": [
    "## Conflict & Drought Data"
   ]
  },
  {
   "cell_type": "code",
   "execution_count": null,
   "id": "b2b6679e-ccca-44b6-8988-9ebd6d6c9955",
   "metadata": {},
   "outputs": [],
   "source": [
    "#conflict & drought data\n",
    "i=0\n",
    "\n",
    "#loop through the 6 chosen drought indicators\n",
    "for DI, dt in zip(['SPEI-1', 'SPI-1', 'SPI-3', 'SPEI-6', 'SPI-6', 'SPI-12'], [0, 7,2, 0,4,2]):\n",
    "    \n",
    "    #read data on spatial Median to dataframe\n",
    "    df = pd.read_csv(os.path.join(path_dc_mapping,  'adm_%s_lag%i_conflict.csv'%(DI, dt)), parse_dates=['time']).drop('Unnamed: 0', axis=1).loc[:, ['time', 'county', 'GID_1', 'conflict_boolean', 'Median']].set_index(['time', 'GID_1'])\n",
    "    \n",
    "    #join the different DIs to one dataframe\n",
    "    if i == 0:\n",
    "        df_conflict_drought = df.copy()\n",
    "    else:\n",
    "        df_conflict_drought = df_conflict_drought.join(df['Median'], on=['time', 'GID_1'], how='inner', rsuffix='_%s_lag%i'%(DI, dt))\n",
    "    i+=1\n",
    "\n",
    "#coherent names for all columns\n",
    "df_conflict_drought.rename({'Median': 'Median_SPEI-1_lag0'}, axis=1, inplace=True)\n",
    "\n",
    "#reset index\n",
    "df_conflict_drought.reset_index(inplace=True)\n"
   ]
  },
  {
   "cell_type": "markdown",
   "id": "48216199-0713-4108-8f4d-2abfc77d8e4c",
   "metadata": {},
   "source": [
    "## Read Data from DataCube"
   ]
  },
  {
   "cell_type": "code",
   "execution_count": null,
   "id": "2f2cd097-b3c3-4e12-9406-3b55df43bf8f",
   "metadata": {},
   "outputs": [],
   "source": [
    "#initialize dataframe for random forest model\n",
    "df_data_rf = pd.DataFrame()"
   ]
  },
  {
   "cell_type": "code",
   "execution_count": null,
   "id": "60da733b-37b2-42a2-8555-91d78272c8ac",
   "metadata": {},
   "outputs": [],
   "source": [
    "#open datastructure for monthly data\n",
    "f_adm1_m = tables.open_file(os.path.join(path_pv, 'raw\\data_working_phase_3_datacubes_Version_Archive_datacube_objects_v1.3.2_datacube_from_hdf5_month-admin1_merged.h5'), mode='r') #only monthly data is used from datacube as yearly data was not available for the correct time period, see separate script for reproduction of yearly variables from source data"
   ]
  },
  {
   "cell_type": "code",
   "execution_count": null,
   "id": "bc938801-21dc-49a9-af69-208ee05037c4",
   "metadata": {},
   "outputs": [],
   "source": [
    "#retrieve data on administrative units\n",
    "ADM_array = f_adm1_m.root.table.block3_values\n",
    "ADM1_column = ADM_array[0][:,0]\n",
    "\n",
    "#condition that adm1 units need to be in drought-conflict mapping dataframe\n",
    "cond = np.isin(ADM1_column, df_conflict_drought.GID_1.unique())\n",
    "\n",
    "df_data_rf['GID_1'] = ADM_array[0][cond,0]\n",
    "df_data_rf['GID_0'] = ADM_array[0][cond,1]"
   ]
  },
  {
   "cell_type": "code",
   "execution_count": null,
   "id": "f801bac2-64c0-4164-873b-ec5becf663ae",
   "metadata": {},
   "outputs": [],
   "source": [
    "#loop through all variables in DataCube and add to dataframe\n",
    "for i in range(3):\n",
    "    block_name = 'block' + str(i)\n",
    "    col_names = getattr(f_adm1_m.root.table, block_name + '_items')\n",
    "    val_array = getattr(f_adm1_m.root.table, block_name + '_values')\n",
    "    for j in range(len(col_names)):\n",
    "        column = val_array[:,j]\n",
    "        df_data_rf[col_names[j].decode('utf-8')] = column[cond]\n",
    "df_data_rf = df_data_rf.set_index(['GID_1', 'year', 'month'])"
   ]
  },
  {
   "cell_type": "markdown",
   "id": "14449070-908f-4d04-9673-1326ec1f92b5",
   "metadata": {},
   "source": [
    "## Join DataCube with Own Data"
   ]
  },
  {
   "cell_type": "code",
   "execution_count": null,
   "id": "36346cf4-c235-4560-a7f5-55be12d61c3f",
   "metadata": {},
   "outputs": [],
   "source": [
    "#make indices for drought-conflict data the same\n",
    "df_conflict_drought['year'] = df_conflict_drought.time.dt.year\n",
    "df_conflict_drought['month'] = df_conflict_drought.time.dt.month\n",
    "df_conflict_drought = df_conflict_drought.set_index(['GID_1', 'year', 'month'])"
   ]
  },
  {
   "cell_type": "code",
   "execution_count": null,
   "id": "590eebbd-5ff1-4f25-9d63-a0b8ef6e86b5",
   "metadata": {},
   "outputs": [],
   "source": [
    "#join drought-conflict data with monthly DataCube data\n",
    "df_mapping = df_conflict_drought.join(df_data_rf)"
   ]
  },
  {
   "cell_type": "markdown",
   "id": "f5bac590-268c-4dee-8cb0-3c2eafa95b7b",
   "metadata": {},
   "source": [
    "## Add yearly variables"
   ]
  },
  {
   "cell_type": "code",
   "execution_count": null,
   "id": "9b910895-9cf8-4c37-8298-7e6bab0ca7a7",
   "metadata": {},
   "outputs": [],
   "source": [
    "#open data on prepared yearly predictor variables\n",
    "df_yearly_vars = pd.read_csv(os.path.join(path_pv, \"yearly_pred_vars.csv\"))"
   ]
  },
  {
   "cell_type": "code",
   "execution_count": null,
   "id": "d684ca0f-8fd9-4641-bd9a-ac1c2b4f588a",
   "metadata": {},
   "outputs": [],
   "source": [
    "#introduce 'GID_0' column\n",
    "df_yearly_vars['GID_0'] = df_yearly_vars.Country.map({'Ethiopia':'ETH', 'Kenya': 'KEN', 'South Sudan': 'SSD', 'Sudan': 'SDN', 'Somalia':'SOM', 'Uganda':'UGA'})"
   ]
  },
  {
   "cell_type": "code",
   "execution_count": null,
   "id": "8369cc22-863d-42b4-8f7f-7bab78d79c88",
   "metadata": {},
   "outputs": [],
   "source": [
    "#set index to GID_0 and year\n",
    "df_yearly_vars = df_yearly_vars.set_index([\"GID_0\", \"Year\"]).drop(columns=\"Unnamed: 0\")"
   ]
  },
  {
   "cell_type": "code",
   "execution_count": null,
   "id": "0bda18e7-ce8d-4c02-802c-19c1c5a1b2b3",
   "metadata": {},
   "outputs": [],
   "source": [
    "#join yearly variables with remaining variables -> constant value for all admin1 units within one country and all months of one year (compare to Kuzma et al. (2020))\n",
    "df_mapping = df_mapping.join(df_yearly_vars, on=[\"GID_0\", \"year\"])"
   ]
  },
  {
   "cell_type": "markdown",
   "id": "ff2056fd-381e-49de-93b1-219fa85ea35d",
   "metadata": {},
   "source": [
    "## Add Conflict Input Variables"
   ]
  },
  {
   "cell_type": "code",
   "execution_count": null,
   "id": "e511e3de-0330-4145-9ee0-a54cade848fe",
   "metadata": {},
   "outputs": [],
   "source": [
    "#open dataframe with spillover conflict variables\n",
    "df_spat_lag = pd.read_csv(os.path.join(path_conflict_input, 'spilloverconflict_t-1.csv'), parse_dates=['Unnamed: 0']).rename({'Unnamed: 0': 'time', 'com': 'spat_com_t-1', 'oc': 'spat_oc_t-1'},axis=1).set_index(['time', 'county'])"
   ]
  },
  {
   "cell_type": "code",
   "execution_count": null,
   "id": "2d7a07b2-7656-4add-a76e-7d968ca8333c",
   "metadata": {},
   "outputs": [],
   "source": [
    "#open dataframe with variable \"time since last communal conflict\"\n",
    "df_dt_conflict = pd.read_csv(os.path.join(path_conflict_input, 'timesinceconflict.csv'), parse_dates=['Unnamed: 0']).rename({'Unnamed: 0': 'time', '0': 'dt_conflict'}, axis=1)"
   ]
  },
  {
   "cell_type": "code",
   "execution_count": null,
   "id": "df20c79f-1a27-4155-a07d-d29d1c3db8e2",
   "metadata": {},
   "outputs": [],
   "source": [
    "#combine conflict input variables\n",
    "df_conflict_vars = df_dt_conflict.join(df_spat_lag, on=['time', 'county'], how='inner')"
   ]
  },
  {
   "cell_type": "code",
   "execution_count": null,
   "id": "1ccf79c1-5e9b-42c4-bc98-e3b9de7a8d58",
   "metadata": {},
   "outputs": [],
   "source": [
    "#include columns on year, month and administrative unit to match the format of dataframe with all other variables\n",
    "df_conflict_vars['year'] = df_conflict_vars.time.dt.year\n",
    "df_conflict_vars['month'] = df_conflict_vars.time.dt.month\n",
    "df_conflict_vars = df_conflict_vars.set_index(['GID_1', 'year', 'month'])"
   ]
  },
  {
   "cell_type": "code",
   "execution_count": null,
   "id": "faa29f49-502b-496d-9d39-dfa1ec0f25d9",
   "metadata": {},
   "outputs": [],
   "source": [
    "#join conflict input variables with other variables in dataframe\n",
    "df_mapping = df_mapping.join(df_conflict_vars, on=['GID_1', 'year', 'month'], lsuffix = 'DC', how='inner')"
   ]
  },
  {
   "cell_type": "markdown",
   "id": "9da927f3-4de5-4b79-94fd-7cd3678c101e",
   "metadata": {},
   "source": [
    "## Retrieving needed variables for RF Model and storing them in csv file"
   ]
  },
  {
   "cell_type": "code",
   "execution_count": null,
   "id": "de8a6596-08ec-4803-933c-8ca7996dc380",
   "metadata": {},
   "outputs": [],
   "source": [
    "#variables which are included vs. excluded\n",
    "vars_ds = ['conflict_boolean', 'Median_SPEI-1_lag0', 'Median_SPI-1_lag7', 'Median_SPI-3_lag2', 'Median_SPEI-6_lag0', 'Median_SPI-6_lag4', 'Median_SPI-12_lag2', 'loccount_y', 'locdensity_y', 'rurratio_s', 'spam_V_agg_r_sum_s', 'rfr_s', 'sev_s', 'iav_s', 'spat_com_t-1', 'spat_oc_t-1', 'dt_conflict', 'male_pct_65+', 'sex_ratio_25-64', 'sex_ratio_65+', 'sanitationaccess']\n",
    "vars_missing = ['NY.GDP.PCAP.PP.KD', 'NY.AGR.TOTL.ZS']"
   ]
  },
  {
   "cell_type": "code",
   "execution_count": null,
   "id": "f30b7e20-0f85-4f70-9106-13f916f72ff5",
   "metadata": {},
   "outputs": [],
   "source": [
    "#retrieve variables to be included from whole dataframe\n",
    "df_ml = df_mapping.loc[:,vars_ds]"
   ]
  },
  {
   "cell_type": "code",
   "execution_count": null,
   "id": "fbda0ea0-d85c-4b62-8f71-2a100bfc16fd",
   "metadata": {},
   "outputs": [],
   "source": [
    "#store dataframe with conflict output variable and all input variables for RF model to csv file\n",
    "df_ml.to_csv(os.path.join(path_pv, 'RF_dataframe_input.csv'))"
   ]
  }
 ],
 "metadata": {
  "kernelspec": {
   "display_name": "Python 3 (ipykernel)",
   "language": "python",
   "name": "python3"
  },
  "language_info": {
   "codemirror_mode": {
    "name": "ipython",
    "version": 3
   },
   "file_extension": ".py",
   "mimetype": "text/x-python",
   "name": "python",
   "nbconvert_exporter": "python",
   "pygments_lexer": "ipython3",
   "version": "3.9.16"
  }
 },
 "nbformat": 4,
 "nbformat_minor": 5
}
