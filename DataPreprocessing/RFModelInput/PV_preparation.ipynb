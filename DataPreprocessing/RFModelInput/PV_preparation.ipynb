{
 "cells": [
  {
   "cell_type": "markdown",
   "id": "5ea13488-180b-4c26-9aa4-4e77a1c63525",
   "metadata": {},
   "source": [
    "# Preparation of other predictor variables"
   ]
  },
  {
   "cell_type": "markdown",
   "id": "b8672f87-6ced-43e1-a3c2-92566636a1f4",
   "metadata": {},
   "source": [
    "@author: Caroline Gasten\n",
    "\n",
    "The present script prepares four yearly variables which could not be obtained from the WPS DataCube. Instead they were downloaded from their original sources (see thesis for more detailed explanation) and stored in a directory for raw predictor variables. In the following each of the variables is prepared and then stored together in a dataframe."
   ]
  },
  {
   "cell_type": "markdown",
   "id": "3a6eb3cd-06ec-4752-a8f5-853bb7bee995",
   "metadata": {},
   "source": [
    "## Settings"
   ]
  },
  {
   "cell_type": "code",
   "execution_count": null,
   "id": "48f51c5d-b640-477d-b4ee-d3706de0fa86",
   "metadata": {},
   "outputs": [],
   "source": [
    "#import packages\n",
    "import pandas as pd\n",
    "import os\n",
    "import numpy as np"
   ]
  },
  {
   "cell_type": "code",
   "execution_count": null,
   "id": "8e3dbf10-bd4c-4808-ac15-f5ab3b815fd9",
   "metadata": {},
   "outputs": [],
   "source": [
    "#required paths\n",
    "path_input=#path to raw predictor variables\n",
    "path_output =#path to store prepared predictor variables"
   ]
  },
  {
   "cell_type": "code",
   "execution_count": null,
   "id": "27911ad9-eeda-4e13-8232-094765d2a73a",
   "metadata": {},
   "outputs": [],
   "source": [
    "#countries of wider study area for RF Model\n",
    "countries = ['KEN', 'ETH', 'UGA', 'SSD', 'SOM', 'SDN']\n",
    "countries_long = [\"Kenya\", \"Ethiopia\", \"Uganda\", 'South Sudan', 'Somalia']"
   ]
  },
  {
   "cell_type": "markdown",
   "id": "96678369-d9f8-40fc-814e-a67c51b8716b",
   "metadata": {},
   "source": [
    "## sanitationaccess"
   ]
  },
  {
   "cell_type": "code",
   "execution_count": null,
   "id": "790f2050-4341-4d31-96f4-cf08e5f0cc28",
   "metadata": {},
   "outputs": [],
   "source": [
    "#read JMP files for each country and retrieve data for 'at least basic' sanitation access\n",
    "df_san_eth = pd.read_csv(os.path.join(path_input, \"JMP_2021_ETH_Ethiopia.csv\"), delimiter=';', header=[3]).loc[:, [\"Country\", \"Year\", \"Setting\",\"At least basic (improved and not shared)\"]]\n",
    "df_san_ken = pd.read_csv(os.path.join(path_input, \"JMP_2021_KEN_Kenya.csv\"), delimiter=';', header=[3]).loc[:, [\"Country\", \"Year\", \"Setting\",\"At least basic (improved and not shared)\"]]\n",
    "df_san_sdn = pd.read_csv(os.path.join(path_input, \"JMP_2021_SDN_Sudan.csv\"), delimiter=';', header=[3]).loc[:, [\"Country\", \"Year\", \"Setting\",\"At least basic (improved and not shared)\"]]\n",
    "df_san_som =  pd.read_csv(os.path.join(path_input, \"JMP_2021_SOM_Somalia.csv\"), delimiter=';', header=[3]).loc[:, [\"Country\", \"Year\", \"Setting\",\"At least basic (improved and not shared)\"]]\n",
    "df_san_ssd = pd.read_csv(os.path.join(path_input, \"JMP_2021_SSD_South_Sudan.csv\"), delimiter=';', header=[3]).loc[:, [\"Country\", \"Year\", \"Setting\",\"At least basic (improved and not shared)\"]]\n",
    "df_san_uga = pd.read_csv(os.path.join(path_input, \"JMP_2021_UGA_Uganda.csv\"), delimiter=';', header=[3]).loc[:, [\"Country\", \"Year\", \"Setting\",\"At least basic (improved and not shared)\"]]"
   ]
  },
  {
   "cell_type": "code",
   "execution_count": null,
   "id": "42de99ae-98ea-448a-b463-9e9023c8bcba",
   "metadata": {},
   "outputs": [],
   "source": [
    "#fill data before 2011 for South Sudan with values from Sudan\n",
    "df_san_ssd.iloc[df_san_ssd.Year.isin(range(2011)), 3]=df_san_sdn.loc[df_san_sdn.Year.isin(range(2011)), \"At least basic (improved and not shared)\"]"
   ]
  },
  {
   "cell_type": "code",
   "execution_count": null,
   "id": "b067e5b9-a8a9-4fbf-ac4e-9c3b12b25dff",
   "metadata": {},
   "outputs": [],
   "source": [
    "#combine dataframes for all countries\n",
    "df_san = pd.concat([df_san_eth, df_san_ken, df_san_uga, df_san_ssd, df_san_som])"
   ]
  },
  {
   "cell_type": "code",
   "execution_count": null,
   "id": "7778bfc9-d05b-415f-967a-80cd7f29d8a8",
   "metadata": {},
   "outputs": [],
   "source": [
    "#retrieve \"National\" sanitation access values and simplify dataframe\n",
    "df_san_ss = df_san[df_san.Setting==\"National\"].drop(columns=\"Setting\").rename(columns={\"At least basic (improved and not shared)\":\"sanitationaccess\"})"
   ]
  },
  {
   "cell_type": "code",
   "execution_count": null,
   "id": "67991f5b-56a7-420d-93aa-e89bc4ce8422",
   "metadata": {},
   "outputs": [],
   "source": [
    "#lag variable by 4 years (as done by Kuzma et al. (2020))\n",
    "df_san_ss.Year=df_san_ss.Year+4"
   ]
  },
  {
   "cell_type": "code",
   "execution_count": null,
   "id": "5e0fbafa-6b96-46b5-8402-e556b526ae79",
   "metadata": {},
   "outputs": [],
   "source": [
    "#initialize dataframe with yearly variables with \"sanitationaccess\" as first variable\n",
    "df_yearlyvars = df_san_ss"
   ]
  },
  {
   "cell_type": "markdown",
   "id": "5a4cf9b0-6523-40ed-87aa-6287f0462610",
   "metadata": {},
   "source": [
    "## sex_ratio_25-64, sex_ratio_65+"
   ]
  },
  {
   "cell_type": "code",
   "execution_count": null,
   "id": "b0d98ca5-5cb7-4eb5-9e20-b6aca76bbb09",
   "metadata": {},
   "outputs": [],
   "source": [
    "#open WPP dataset on sex ratio per selected age group\n",
    "df_sexratio = pd.read_csv(os.path.join(path_input, 'WPP2022_POP_F04_SEX_RATIO_SELECT_AGE_GROUPS.csv'), delimiter=';', skiprows=16)"
   ]
  },
  {
   "cell_type": "code",
   "execution_count": null,
   "id": "f200b615-b81b-4a9b-b4e1-9cf41da37233",
   "metadata": {},
   "outputs": [],
   "source": [
    "#retrieve data on sex ratios for age groups 25-64 and 65+ for the region of interest and the years of 2004 or later\n",
    "df_sexratio_ss = df_sexratio[(df_sexratio[\"Region, subregion, country or area *\"].isin(countries_long)) & (df_sexratio.Year>=2004) & (df_sexratio.Year<=2021)].loc[:, ['Region, subregion, country or area *', \"Year\", \"25-64\", \"65+\"]]\n",
    "df_sexratio_ss.rename(columns={'Region, subregion, country or area *': \"Country\", \"25-64\":\"sex_ratio_25-64\", \"65+\":\"sex_ratio_65+\"}, inplace=True)"
   ]
  },
  {
   "cell_type": "code",
   "execution_count": null,
   "id": "59fdf222-0042-4829-82a0-fc735c2c10eb",
   "metadata": {},
   "outputs": [],
   "source": [
    "#add data to dataframe with yearly variables\n",
    "df_yearlyvars = df_yearlyvars.join(df_sexratio_ss.set_index([\"Country\",\"Year\"]), on=[\"Country\", \"Year\"])"
   ]
  },
  {
   "cell_type": "markdown",
   "id": "9cfc7fff-d783-4051-9656-403224296604",
   "metadata": {},
   "source": [
    "## male_pct_65+"
   ]
  },
  {
   "cell_type": "code",
   "execution_count": null,
   "id": "15fea05c-4e58-4724-b2da-fbdec13478eb",
   "metadata": {},
   "outputs": [],
   "source": [
    "#open WPP dataset on population percentage per age group\n",
    "df_malepct = pd.read_csv(os.path.join(path_input, 'WPP2022_POP_F06_2_POPULATION_PERCENTAGE_SELECT_AGE_GROUPS_MALE.csv'), delimiter=';', skiprows=16)"
   ]
  },
  {
   "cell_type": "code",
   "execution_count": null,
   "id": "774b637f-41c4-42df-8c82-34c6d8d8f1f4",
   "metadata": {},
   "outputs": [],
   "source": [
    "#rerieve data on percentage of male population which is 65+\n",
    "df_malepct_ss = df_malepct[(df_malepct[\"Region, subregion, country or area *\"].isin(countries_long)) & (df_malepct.Year>=2004) & (df_malepct.Year<=2021)].loc[:, ['Region, subregion, country or area *', \"Year\", \"65+\"]]\n",
    "df_malepct_ss.rename(columns={'Region, subregion, country or area *': \"Country\",  \"65+\":\"male_pct_65+\"}, inplace=True)"
   ]
  },
  {
   "cell_type": "code",
   "execution_count": null,
   "id": "a0410e60-2a4c-46cd-8484-0b28dcedaf2b",
   "metadata": {},
   "outputs": [],
   "source": [
    "#add data to dataframe with yearly variables\n",
    "df_yearlyvars = df_yearlyvars.join(df_malepct_ss.set_index([\"Country\",\"Year\"]), on=[\"Country\", \"Year\"])"
   ]
  },
  {
   "cell_type": "code",
   "execution_count": null,
   "id": "873d7659-c27f-4681-b2a5-8d60366d1ee1",
   "metadata": {},
   "outputs": [],
   "source": [
    "#save dataframe with yearly variables to output\n",
    "df_yearlyvars.to_csv(os.path.join(path_output, \"yearly_pred_vars.csv\"))"
   ]
  }
 ],
 "metadata": {
  "kernelspec": {
   "display_name": "Python 3 (ipykernel)",
   "language": "python",
   "name": "python3"
  },
  "language_info": {
   "codemirror_mode": {
    "name": "ipython",
    "version": 3
   },
   "file_extension": ".py",
   "mimetype": "text/x-python",
   "name": "python",
   "nbconvert_exporter": "python",
   "pygments_lexer": "ipython3",
   "version": "3.9.16"
  }
 },
 "nbformat": 4,
 "nbformat_minor": 5
}
