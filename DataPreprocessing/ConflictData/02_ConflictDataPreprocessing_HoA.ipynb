{
 "cells": [
  {
   "cell_type": "markdown",
   "id": "0882e08d-9f9a-425e-986e-3978d6b210aa",
   "metadata": {},
   "source": [
    "# UCDP_GED data preprocessing - Conflict Analysis and Data Preparation for Wider Study Area"
   ]
  },
  {
   "cell_type": "markdown",
   "id": "4cd966e9-d589-47ef-919c-ba46e5a9e9c3",
   "metadata": {},
   "source": [
    "The present notebook preprocesses the conflict data to obtain monthly conflict variables on an admin-1 level and for each ethnic group in the study area. Admin-1 levels for Kenya, Ethiopia, South Sudan (+its former part of Sudan), Uganda and Somalia is preprocessed, as in the final part of the thesis a wider study scope was required."
   ]
  },
  {
   "cell_type": "markdown",
   "id": "e4c26e45-e3f3-4642-829d-fe7b5c97023b",
   "metadata": {},
   "source": [
    "## Settings"
   ]
  },
  {
   "cell_type": "code",
   "execution_count": null,
   "id": "a387449f-1462-491b-bb8c-c15fab7a6502",
   "metadata": {},
   "outputs": [],
   "source": [
    "#required packages\n",
    "import pandas as pd\n",
    "import numpy as np\n",
    "import matplotlib.pyplot as plt\n",
    "import os\n",
    "import geopandas as gpd\n",
    "import matplotlib as mpl\n",
    "from cycler import cycler\n",
    "from dateutil.relativedelta import relativedelta\n",
    "from datetime import datetime as dt\n",
    "import math"
   ]
  },
  {
   "cell_type": "code",
   "execution_count": null,
   "id": "9b8f64ce-a103-4b4e-8ed7-af3631eebad6",
   "metadata": {},
   "outputs": [],
   "source": [
    "#required paths\n",
    "path_conflict_data = #path to directory with conflict data\n",
    "path_admin_data = #path to admin boundaries data\n",
    "path_figs = #path to figures"
   ]
  },
  {
   "cell_type": "code",
   "execution_count": null,
   "id": "fd96860a-b4b5-4b43-add6-6e4edb6f3335",
   "metadata": {},
   "outputs": [],
   "source": [
    "#Figure style\n",
    "tw_pt = 483.69\n",
    "tw_inch = tw_pt/72.27\n",
    "mpl.rc('figure', titlesize=11, labelsize=10, figsize=[tw_inch,tw_inch*(5**.5 - 1) / 2])\n",
    "mpl.rc('axes', titlesize=11, labelsize=10)\n",
    "mpl.rc('xtick', labelsize=8)\n",
    "mpl.rc('ytick', labelsize=8)\n",
    "mpl.rc('legend', fontsize=8)\n",
    "colour_rng=['teal', 'salmon', 'lightblue', 'silver', 'darkseagreen', 'palevioletred', 'slategray']\n",
    "mpl.rcParams['axes.prop_cycle'] = cycler(color=colour_rng)"
   ]
  },
  {
   "cell_type": "markdown",
   "id": "ae1313f3-81d2-4907-817a-3a330c982866",
   "metadata": {},
   "source": [
    "## Import Data"
   ]
  },
  {
   "cell_type": "code",
   "execution_count": null,
   "id": "cd0471db-7a35-46a2-abd7-ae2eeceb4230",
   "metadata": {},
   "outputs": [],
   "source": [
    "#import UCDP-GED data and nonstate data to inform on type of nonstate conflict\n",
    "df_ucdp_ged = pd.read_csv(os.path.join(path_conflict_data, 'raw','GEDEvent_v22_1.csv'), parse_dates=['date_start', 'date_end'])\n",
    "df_com_organization = pd.read_csv(os.path.join(path_conflict_data, 'raw','ucdp-nonstate-221.csv')).set_index('dyad_id')"
   ]
  },
  {
   "cell_type": "code",
   "execution_count": null,
   "id": "54464120-98bf-4d6d-b1e6-8ff2b8826c2d",
   "metadata": {},
   "outputs": [],
   "source": [
    "#join dataframes on the respective dyad to add information to UCDP-GED on the type of nonstate conflict\n",
    "df_ucdp_ged_comorg = df_ucdp_ged.join(df_com_organization, on=['dyad_new_id'], rsuffix='com')"
   ]
  },
  {
   "cell_type": "markdown",
   "id": "be817621-739b-4686-bb0e-0be16760071c",
   "metadata": {},
   "source": [
    "## Filtering Data"
   ]
  },
  {
   "cell_type": "markdown",
   "id": "37d7a1c0-1a32-40f3-9dc0-ef17e9c954dc",
   "metadata": {},
   "source": [
    "While the Kenyan administrative units have changed over time from 2nd level to 1st level administrative units for those which are statically included in the GADM dataset, in the remaining region the administrative units which are mentioned in the UCDP dataset to have seen non-state conflict are still the same as in the GADM dataset. This is even the case for South Sudan, which has become independent from Sudan. However, administrative borders have not changed. For Uganda there is a variation in what is cocomidered the 1st level administrative unit between UCDP-GED and GADM. However, as UCDP-GED defines the adm-1 level at the finer level of districts, conflict events with a sufficient precision code are also certain to lie within the GADM adm1-level units. Therefore, the spatial precision filtering can be restricted here to a condition of a precision code of 4 or lower. The temporal filtering remaicom the same. Only for Kenya the additional condition of a higher spatial precision code prior to March 2013 is applied."
   ]
  },
  {
   "cell_type": "code",
   "execution_count": null,
   "id": "69c32120-8b7d-4955-9b02-8c7cb98adaaa",
   "metadata": {},
   "outputs": [],
   "source": [
    "#determine scope of retrieval\n",
    "year_start = 2004\n",
    "adm_0 = ['Kenya', 'Ethiopia', 'South Sudan', 'Sudan', 'Somalia', 'Uganda']"
   ]
  },
  {
   "cell_type": "code",
   "execution_count": null,
   "id": "f4e5a939-5242-434c-b46e-b8a3a94842b1",
   "metadata": {},
   "outputs": [],
   "source": [
    "#filter dataframe according to these characteristics\n",
    "df_HoA = df_ucdp_ged_comorg[(df_ucdp_ged_comorg.country.isin(adm_0)) & (df_ucdp_ged_comorg.year>=year_start)]"
   ]
  },
  {
   "cell_type": "code",
   "execution_count": null,
   "id": "ca73121d-1100-42ac-adf4-bd02f7893556",
   "metadata": {},
   "outputs": [],
   "source": [
    "#only retrieve communal conflict\n",
    "df_HoA_com = df_HoA[(df_HoA.type_of_violence == 2) & (df_HoA.org == 3)]"
   ]
  },
  {
   "cell_type": "code",
   "execution_count": null,
   "id": "0ae8c690-30f8-4574-87ef-f6c6a97899cb",
   "metadata": {},
   "outputs": [],
   "source": [
    "#apply spatial and temporal precision requirements\n",
    "df_HoA_com_satprec = df_HoA_com[(df_HoA_com.where_prec<=4) & (df_HoA_com.date_start.dt.month==df_HoA_com.date_end.dt.month) & ~ ((df_HoA_com.country=='Kenya')&(df_HoA_com.date_start<='2013-03-03')&(df_HoA_com.where_prec==4))]\n",
    "df_HoA_com_ucomatprec = df_HoA_com[(df_HoA_com.where_prec>4) | (df_HoA_com.date_start.dt.month!=df_HoA_com.date_end.dt.month) |((df_HoA_com.country=='Kenya')&(df_HoA_com.date_start<='2013-03-03')&(df_HoA_com.where_prec==4))]"
   ]
  },
  {
   "cell_type": "code",
   "execution_count": null,
   "id": "5772eb00-4d4b-4f82-8158-e86ae6654f0d",
   "metadata": {},
   "outputs": [],
   "source": [
    "#figure of conflict records and precision\n",
    "plt.bar(df_HoA_com_satprec.country.unique(),df_HoA_com_satprec.groupby(\"country\").size(), color=colour_rng, edgecolor=colour_rng, label='satisfactory precision')\n",
    "plt.bar(df_HoA_com_ucomatprec.country.unique(),bottom=df_HoA_com_satprec.groupby(\"country\").size(), height=df_HoA_com_ucomatprec.groupby(\"country\").size(), color='white', edgecolor=colour_rng, hatch='////', label='ucomatisfactory precision')\n",
    "plt.title(\"Communal conflict in different Horn of Africa countries\")\n",
    "plt.xlabel('country')\n",
    "plt.ylabel('number of records')\n",
    "plt.legend()"
   ]
  },
  {
   "cell_type": "markdown",
   "id": "d7bf36c2-352a-4c6e-8237-91c6686655be",
   "metadata": {},
   "source": [
    "## Clipping data"
   ]
  },
  {
   "cell_type": "markdown",
   "id": "416bac52-2b50-4e0d-b261-a1a04c228311",
   "metadata": {},
   "source": [
    "Data is clipped to GADM 3.6 admin-1."
   ]
  },
  {
   "cell_type": "code",
   "execution_count": null,
   "id": "29e33544-70d8-45b0-b900-898a9c1abacd",
   "metadata": {},
   "outputs": [],
   "source": [
    "gadm_countries = ['KEN', 'SSD', 'SOM', 'UGA'] #countries except for Ethiopia because of different way the GADM information is stored for Ethiopia"
   ]
  },
  {
   "cell_type": "code",
   "execution_count": null,
   "id": "ab461c8c-4bf7-4529-aced-9bcd3ac60cae",
   "metadata": {},
   "outputs": [],
   "source": [
    "#transform communal conflict information into georeferenced points\n",
    "gdf_HoA_com_satprec = gpd.GeoDataFrame(df_HoA_com_satprec, geometry=gpd.points_from_xy(df_HoA_com_satprec.longitude,df_HoA_com_satprec.latitude), crs='EPSG:4326') "
   ]
  },
  {
   "cell_type": "code",
   "execution_count": null,
   "id": "e8b134be-0680-4ec2-9cf5-53d07c82b2c9",
   "metadata": {},
   "outputs": [],
   "source": [
    "#loop through all countries and admin-1 levels to clip all conflict events of sufficient precision to the respective admin-1 level\n",
    "for country in gadm_countries:\n",
    "    adm_bound = gpd.read_file(os.path.join(path_admin_data, r'raw\\GADM3.6\\%s'%(country), 'gadm36_%s.gpkg'%(country)))\n",
    "    adm1_bound = adm_bound.dissolve(by='NAME_1').loc[:, ['GID_1', 'geometry']] #dissolve GADM information to shapefile of admin-1 unit\n",
    "    for county in adm1_bound.index:\n",
    "        # clip conflict events to shapefile\n",
    "        gdf_county_com_satprec = gpd.clip(gdf_HoA_com_satprec, adm1_bound.loc[[county]])\n",
    "        #save county information and GID_1 to conflict dataframe\n",
    "        gdf_HoA_com_satprec.loc[gdf_county_com_satprec.index, ['county', 'GID_1']] = [county, adm1_bound.loc[county, 'GID_1'][:-2]]\n",
    "        if len(gdf_county_com_satprec)>0:\n",
    "            #save county-specific dataframe\n",
    "            gdf_county_com_satprec.to_file(os.path.join(path_conflict_data, 'adm_com_conflict', f'%s_%s_com_conflict.gpkg'%(country, county)))"
   ]
  },
  {
   "cell_type": "code",
   "execution_count": null,
   "id": "83992530-d5ae-4ad4-b393-5db0c378fcf0",
   "metadata": {},
   "outputs": [],
   "source": [
    "country = 'ETH' #for Ethiopia level 1 polygocom missing in gpkg file\n",
    "adm1_bound = gpd.read_file(os.path.join(path_admin_data, r'raw\\GADM3.6\\%s'%(country), 'gadm36_%s_1.shp'%(country))).loc[:, ['NAME_1', 'GID_1', 'geometry']].set_index('NAME_1')\n",
    "for county in adm1_bound.index:\n",
    "    #clip conflict events to shapefile\n",
    "    gdf_county_com_satprec = gpd.clip(gdf_HoA_com_satprec, adm1_bound.loc[[county]])\n",
    "    #save county information and GID_1 to conflict dataframe\n",
    "    gdf_HoA_com_satprec.loc[gdf_county_com_satprec.index, ['county', 'GID_1']] = [county, adm1_bound.loc[county, 'GID_1'][:-2]]\n",
    "    if len(gdf_county_com_satprec)>0:\n",
    "        #save county-specific dataframe\n",
    "        gdf_county_com_satprec.to_file(os.path.join(path_conflict_data, 'adm_com_conflict', f'%s_%s_com_conflict.gpkg'%(country, county)))"
   ]
  },
  {
   "cell_type": "markdown",
   "id": "c343631a-7283-477b-82e9-460ee7a5e9ca",
   "metadata": {},
   "source": [
    "## Conflict count and boolean at monthly time scales per administrative unit"
   ]
  },
  {
   "cell_type": "code",
   "execution_count": null,
   "id": "e49f0308-c0e8-4ffc-9551-9b99f228dc13",
   "metadata": {},
   "outputs": [],
   "source": [
    "#list of all counties in the entire dataframe\n",
    "counties = gdf_HoA_com_satprec.county.unique()\n",
    "counties = [x for x in counties if str(x) != 'nan']\n",
    "\n",
    "#monthly eventcount per administrative unit\n",
    "for i in range(0,len(counties)):\n",
    "    \n",
    "    #group conflict events by month and count them\n",
    "    county=counties[i]\n",
    "    countyspec_df_com_county_eventcount = gdf_HoA_com_satprec[gdf_HoA_com_satprec.county==county].groupby([pd.Grouper(key='date_start', freq='M'), 'county', 'GID_1']).size().unstack(['county', 'GID_1'])\n",
    "    \n",
    "    #fill eventcounts to first to last month of time period of analysis (2004-2021)\n",
    "    first_months = pd.DataFrame(index=pd.date_range('2004-01-31', str(countyspec_df_com_county_eventcount.index[0] - relativedelta(days=1)), freq='M'), columns=countyspec_df_com_county_eventcount.columns)\n",
    "    last_months = pd.DataFrame(index=pd.date_range(str(countyspec_df_com_county_eventcount.index[-1] + relativedelta(months=1)), '2021-12-31', freq='M'), columns=countyspec_df_com_county_eventcount.columns)\n",
    "    countyspec_df_com_county_eventcount = pd.concat([first_months, countyspec_df_com_county_eventcount, last_months])\n",
    "    \n",
    "    #store as frequency\n",
    "    countyspec_df_com_county_eventcount = countyspec_df_com_county_eventcount.resample('M').asfreq().fillna(0).stack(['county', 'GID_1'])\n",
    "    \n",
    "    #combine dataframes for all administrative units\n",
    "    if i == 0:\n",
    "        df_com_county_eventcount = countyspec_df_com_county_eventcount.copy()\n",
    "    else:\n",
    "        df_com_county_eventcount = pd.concat([df_com_county_eventcount, countyspec_df_com_county_eventcount])\n",
    "        \n",
    "#derive conflict/no conflict dataframe from monthly eventcount\n",
    "df_com_county_eventbool = (df_com_county_eventcount > 0)\n",
    "\n",
    "#save dataframes\n",
    "df_com_county_eventcount.to_csv(os.path.join(path_conflict_data, 'monthly_adm_com_conflict', 'HoA_eventcount.csv'))\n",
    "df_com_county_eventbool.to_csv(os.path.join(path_conflict_data, 'monthly_adm_com_conflict', 'HoA_eventbool.csv'))"
   ]
  },
  {
   "cell_type": "markdown",
   "id": "67f69476-1481-4f23-b31a-bb728ce6aa31",
   "metadata": {},
   "source": [
    "## Retrieval of dyads in study area"
   ]
  },
  {
   "cell_type": "code",
   "execution_count": null,
   "id": "5e43d030-6735-464e-acb9-211102cadfa7",
   "metadata": {},
   "outputs": [],
   "source": [
    "#retrieve data for study area in North-Western Kenya\n",
    "counties = ['Turkana', 'Marsabit', 'West Pokot']\n",
    "gdf_SA_com_satprec = gdf_HoA_com_satprec[gdf_HoA_com_satprec.county.isin(counties)]"
   ]
  },
  {
   "cell_type": "code",
   "execution_count": null,
   "id": "3824954e-8a4c-403e-b905-f111340f4a56",
   "metadata": {},
   "outputs": [],
   "source": [
    "#retrieve all dyads in study area\n",
    "dyads = gdf_SA_com_satprec.dyad_name.unique()\n",
    "\n",
    "#loop through dyads\n",
    "for i in np.arange(len(dyads)):\n",
    "    dyad = dyads[i]\n",
    "    \n",
    "    #count monthly events per dyad\n",
    "    dyadspec_df_com_dyad_eventcount = gdf_SA_com_satprec[gdf_SA_com_satprec.dyad_name==dyad].groupby([pd.Grouper(key='date_start', freq='M'), 'dyad_name']).size().unstack(['dyad_name'])\n",
    "    \n",
    "     #fill with first and last months and save to frequency\n",
    "    first_months = pd.DataFrame(index=pd.date_range('2004-01-31', str(dyadspec_df_com_dyad_eventcount.index[0] - relativedelta(days=1)), freq='M'), columns=dyadspec_df_com_dyad_eventcount.columns)\n",
    "    last_months = pd.DataFrame(index=pd.date_range(str(dyadspec_df_com_dyad_eventcount.index[-1] + relativedelta(months=1)), '2021-12-31', freq='M'), columns=dyadspec_df_com_dyad_eventcount.columns)\n",
    "    \n",
    "    dyadspec_df_com_dyad_eventcount = pd.concat([first_months, dyadspec_df_com_dyad_eventcount, last_months])\n",
    "    dyadspec_df_com_dyad_eventcount = dyadspec_df_com_dyad_eventcount.resample('M').asfreq().fillna(0).stack(['dyad_name'])\n",
    "    \n",
    "    #combine dataframes for all dyads  \n",
    "    if i == 0:\n",
    "        df_com_dyad_eventcount = dyadspec_df_com_dyad_eventcount.copy()\n",
    "    else:\n",
    "        df_com_dyad_eventcount = pd.concat([df_com_dyad_eventcount, dyadspec_df_com_dyad_eventcount])\n",
    "\n",
    "#derive conflict/no conflic dataframe from monthly eventcount\n",
    "df_com_dyad_eventbool = (df_com_dyad_eventcount > 0)\n",
    "\n",
    "#save dataframes\n",
    "df_com_dyad_eventcount.to_csv(os.path.join(path_data, 'monthly_dyad_com_conflict', 'SA_eventcount.csv'))\n",
    "df_com_dyad_eventbool.to_csv(os.path.join(path_data, 'monthly_dyad_com_conflict', 'SA_eventbool.csv'))"
   ]
  },
  {
   "cell_type": "code",
   "execution_count": null,
   "id": "cfd7836a-2d60-49ab-b7e5-918acca13a90",
   "metadata": {},
   "outputs": [],
   "source": [
    "#plot of monthly eventcount per dyad\n",
    "df_com_dyad_eventcount = df_com_dyad_eventcount.unstack(level=1)\n",
    "i = 1\n",
    "plt.figure(figsize=[tw_inch, tw_inch*1.4])\n",
    "for dyad in dyads:\n",
    "    plt.subplot(math.ceil(len(dyads)/2), 2,i)\n",
    "    plt.plot(df_com_dyad_eventcount[dyad])\n",
    "    plt.title(dyad)\n",
    "    plt.xlabel('year')\n",
    "    plt.ylabel('event count')\n",
    "    i+=1\n",
    "plt.suptitle('Number of events per month for each dyad', y=0.999)\n",
    "plt.tight_layout()\n",
    "plt.savefig(os.path.join(path_figs, 'eventcount_dyad.svg'))"
   ]
  },
  {
   "cell_type": "code",
   "execution_count": null,
   "id": "319b65df-c19e-41ea-b12c-bacae37e2f72",
   "metadata": {},
   "outputs": [],
   "source": [
    "#plot of monthly binary conflict variable per dyad \n",
    "df_com_dyad_eventbool = df_com_dyad_eventbool.unstack(level=1)\n",
    "i = 1\n",
    "plt.figure(figsize=[tw_inch, tw_inch*1.4])\n",
    "for dyad in dyads:\n",
    "    if i==1:\n",
    "        ax = plt.subplot(len(dyads), 1, i)#math.ceil(len(dyads)/2), 2,i)\n",
    "    else:\n",
    "        plt.subplot(len(dyads), 1, i, sharex=ax)\n",
    "    plt.plot(df_com_dyad_eventbool[dyad],label=dyad)\n",
    "    plt.legend()\n",
    "    plt.ylabel('conflict')\n",
    "    plt.yticks(ticks=[0,1])\n",
    "    if i != len(dyads):\n",
    "        plt.tick_params('x', labelbottom=False)\n",
    "    i+=1\n",
    "plt.suptitle('Binary conflict variable per month for each dyad', y=0.999)\n",
    "plt.tight_layout()\n",
    "plt.savefig(os.path.join(path_figs, 'eventbool_dyad.svg'))"
   ]
  },
  {
   "cell_type": "code",
   "execution_count": null,
   "id": "11de2193-4b90-462b-bdfa-f81715a0f862",
   "metadata": {},
   "outputs": [],
   "source": [
    "print(\"The dyads of interest are: Dassanetch - Turkana, Toposa - Turkana, Pokot - Turkana, Borana - Gabra\") #all dyads with conflict events over most of the time "
   ]
  },
  {
   "cell_type": "markdown",
   "id": "cb443d1f-d828-4801-b0c4-07c745e6e944",
   "metadata": {},
   "source": [
    "## Conflict count and boolean per ethnic group"
   ]
  },
  {
   "cell_type": "code",
   "execution_count": null,
   "id": "4246cca4-b48e-47c4-b64d-65c9b6a58aa6",
   "metadata": {},
   "outputs": [],
   "source": [
    "def df_to_grouped_ts(df, ct, freq):\n",
    "    \"\"\"\n",
    "    The function tracomforms a given DataFrame or GeoDataFrame into an eventcount dataset per temporal unit given as freq.\n",
    "    As within this code we are only interested in non-state conflict, the conflict types can be further specified as an \n",
    "    array ct by giving the corresponding numeric code.\n",
    "    \"\"\"\n",
    "    df_ct = df[df.type_of_violence.isin(ct)]\n",
    "    df_ts = df_ct.groupby(df_ct.date_start.dt.to_period(freq)).size()\n",
    "    df_ts = df_ts.resample(freq, convention='end').asfreq().fillna(0)\n",
    "    return df_ts"
   ]
  },
  {
   "cell_type": "code",
   "execution_count": null,
   "id": "695f32c0-8b4b-4dee-8f20-eec248f8bd19",
   "metadata": {},
   "outputs": [],
   "source": [
    "eth_groups = [\"Toposa\", \"Dassanetch\", \"Pokot\", \"Borana\", \"Gabra\", \"Turkana\"] #ethnic groups of interest with a sufficient number of conflict events over time period of analysis"
   ]
  },
  {
   "cell_type": "code",
   "execution_count": null,
   "id": "0d50fdf2-e5f8-434a-b381-4783ed13803f",
   "metadata": {},
   "outputs": [],
   "source": [
    "#count conflict events in UCDP-GED dataset per ethnic group\n",
    "\n",
    "#DataFrame storing the percentage of data kept\n",
    "perc_sat = pd.DataFrame(index=['Fraction of data kept'])\n",
    "\n",
    "#Dataframes for conflict events and conflict event counts for each ethnic group\n",
    "df_eth_eventcount = pd.DataFrame()\n",
    "df_eth = pd.DataFrame()\n",
    "for eth in eth_groups:\n",
    "    \n",
    "    #retrieve all records for an ethnic group after 2004\n",
    "    df_conflict_eth = df_ucdp_ged[((df_ucdp_ged.side_a == eth) | (df_ucdp_ged.side_b == eth)) & (df_ucdp_ged.year>=year_start)]\n",
    "    \n",
    "    #filtering data --> temporal precision requirement the same as for administrative unit\n",
    "    df_conflict_eth_sat = df_conflict_eth[(df_conflict_eth.date_start.dt.month == df_conflict_eth.date_end.dt.month)]\n",
    "    \n",
    "    #percentage of data that is of satisfactory tempporal precision\n",
    "    perc_sat[eth] = len(df_conflict_eth_sat)/len(df_conflict_eth)\n",
    "    \n",
    "    #combine dataframes for different ethnic groups\n",
    "    if i == 0:\n",
    "        df_eth = df_conflict_eth_sat.copy()\n",
    "    else:\n",
    "        df_eth = pd.concat([df_eth, df_conflict_eth_sat])\n",
    "    \n",
    "    \n",
    "    #grouping by month --> eventcount per ethnic group\n",
    "    df_eth_eventcount[eth] = df_to_grouped_ts(df_conflict_eth_sat, ct=[2], freq='M')\n",
    "    i+=1"
   ]
  },
  {
   "cell_type": "code",
   "execution_count": null,
   "id": "6551721b-d587-411c-b5cb-5f5f8f85ebb6",
   "metadata": {},
   "outputs": [],
   "source": [
    "#save conflict records for different ethnic groups\n",
    "df_eth.to_csv(os.path.join(path_home, r'02_Data\\04_Conflict_Data\\ethgroup_com_conflict', 'ethgroup_com_conflict.csv' ))"
   ]
  },
  {
   "cell_type": "code",
   "execution_count": null,
   "id": "fd1a10e4-a20c-4d80-a525-320878bd1c5f",
   "metadata": {},
   "outputs": [],
   "source": [
    "#adjusting time period to January 2004 - December 2021 --> fill conflict count dataset to include all months from 2004 - 2021\n",
    "df_eth_eventcount = df_eth_eventcount.to_timestamp(freq='M', how='end')\n",
    "first_months = pd.DataFrame(index=pd.date_range('2004-01-31', str(df_eth_eventcount.index[0] - relativedelta(months=1)), freq='M').date, columns=df_eth_eventcount.columns)\n",
    "last_months = pd.DataFrame(index=pd.date_range(str(df_eth_eventcount.index[-1] + relativedelta(months=1)), '2021-12-31', freq='M').date, columns=df_eth_eventcount.columns)\n",
    "df_eth_eventcount = pd.concat([first_months, df_eth_eventcount, last_months])"
   ]
  },
  {
   "cell_type": "code",
   "execution_count": null,
   "id": "62157614-592d-4182-8cf9-5343ea1207c0",
   "metadata": {},
   "outputs": [],
   "source": [
    "#save conflict count for ethnic groups\n",
    "df_eth_eventcount = df_eth_eventcount.fillna(0).stack()\n",
    "df_eth_eventcount.to_csv(os.path.join(path_data, \"monthly_ethgroup_com_conflict\", \"eventcount.csv\"))"
   ]
  },
  {
   "cell_type": "code",
   "execution_count": null,
   "id": "820cd25e-4dda-442d-b04e-7dff55d599b6",
   "metadata": {},
   "outputs": [],
   "source": [
    "#derive conflict/no conflict variable and save\n",
    "df_eth_eventbool = df_eth_eventcount > 0\n",
    "df_eth_eventbool.to_csv(os.path.join(path_data, \"monthly_ethgroup_com_conflict\", \"eventbool.csv\"))"
   ]
  }
 ],
 "metadata": {
  "kernelspec": {
   "display_name": "Python 3 (ipykernel)",
   "language": "python",
   "name": "python3"
  },
  "language_info": {
   "codemirror_mode": {
    "name": "ipython",
    "version": 3
   },
   "file_extension": ".py",
   "mimetype": "text/x-python",
   "name": "python",
   "nbconvert_exporter": "python",
   "pygments_lexer": "ipython3",
   "version": "3.9.16"
  }
 },
 "nbformat": 4,
 "nbformat_minor": 5
}
