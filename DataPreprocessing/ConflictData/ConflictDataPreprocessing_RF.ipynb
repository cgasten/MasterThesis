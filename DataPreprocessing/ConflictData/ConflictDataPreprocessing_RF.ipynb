{
 "cells": [
  {
   "cell_type": "markdown",
   "id": "0882e08d-9f9a-425e-986e-3978d6b210aa",
   "metadata": {},
   "source": [
    "# UCDP_GED data preprocessing - Further conflict input variables for Random Forest"
   ]
  },
  {
   "cell_type": "markdown",
   "id": "4cd966e9-d589-47ef-919c-ba46e5a9e9c3",
   "metadata": {},
   "source": [
    "The Random Forest model requires two further input variables which measure whethere there has been any conflict in the adjacent administrative units and the time since the last communal conflict in the same region. "
   ]
  },
  {
   "cell_type": "markdown",
   "id": "e4c26e45-e3f3-4642-829d-fe7b5c97023b",
   "metadata": {},
   "source": [
    "## Settings"
   ]
  },
  {
   "cell_type": "code",
   "execution_count": null,
   "id": "a387449f-1462-491b-bb8c-c15fab7a6502",
   "metadata": {},
   "outputs": [],
   "source": [
    "#load packages\n",
    "import pandas as pd\n",
    "import numpy as np\n",
    "import matplotlib.pyplot as plt\n",
    "import os\n",
    "import geopandas as gpd\n",
    "import matplotlib as mpl\n",
    "from cycler import cycler\n",
    "from dateutil.relativedelta import relativedelta\n",
    "from datetime import datetime as dt\n",
    "import math"
   ]
  },
  {
   "cell_type": "code",
   "execution_count": null,
   "id": "9b8f64ce-a103-4b4e-8ed7-af3631eebad6",
   "metadata": {},
   "outputs": [],
   "source": [
    "path_conflict = os.path.join(path_home, '02_Data', '04_Conflict_data')#path to conflict data\n",
    "path_admin = os.path.join(path_home, '02_Data', '03_Admin_Boundaries')#path to administrative units\n",
    "path_figs = os.path.join(path_home,'04_Figures') #path to figures"
   ]
  },
  {
   "cell_type": "code",
   "execution_count": null,
   "id": "fd96860a-b4b5-4b43-add6-6e4edb6f3335",
   "metadata": {},
   "outputs": [],
   "source": [
    "#Figure style\n",
    "tw_pt = 483.69\n",
    "tw_inch = tw_pt/72.27\n",
    "mpl.rc('figure', titlesize=11, labelsize=10, figsize=[tw_inch,tw_inch*(5**.5 - 1) / 2])\n",
    "mpl.rc('axes', titlesize=11, labelsize=10)\n",
    "mpl.rc('xtick', labelsize=8)\n",
    "mpl.rc('ytick', labelsize=8)\n",
    "mpl.rc('legend', fontsize=8)\n",
    "colour_rng=['teal', 'salmon', 'lightblue', 'silver', 'darkseagreen', 'palevioletred', 'slategray']\n",
    "mpl.rcParams['axes.prop_cycle'] = cycler(color=colour_rng)"
   ]
  },
  {
   "cell_type": "markdown",
   "id": "ae1313f3-81d2-4907-817a-3a330c982866",
   "metadata": {},
   "source": [
    "## Import Data"
   ]
  },
  {
   "cell_type": "code",
   "execution_count": null,
   "id": "cd0471db-7a35-46a2-abd7-ae2eeceb4230",
   "metadata": {},
   "outputs": [],
   "source": [
    "#import UCDP-GED data and nonstate data to inform on type of nonstate conflict\n",
    "df_ucdp_ged = pd.read_csv(os.path.join(path_conflict, 'raw', 'GEDEvent_v22_1.csv'), parse_dates=['date_start', 'date_end'])\n",
    "df_com_organization = pd.read_csv(os.path.join(path_conflict, 'raw', 'ucdp-nonstate-221.csv')).set_index('dyad_id')"
   ]
  },
  {
   "cell_type": "markdown",
   "id": "9a6414aa-48fe-495c-944d-802df878bf4c",
   "metadata": {},
   "source": [
    "## Spatial lag of conflict events of different types"
   ]
  },
  {
   "cell_type": "code",
   "execution_count": null,
   "id": "9f99922e-238a-40a9-b698-f7d3a4c2c693",
   "metadata": {},
   "outputs": [],
   "source": [
    "#load shapes of administrative regions adjacent to each admmin-1 unit --> created with QGIS\n",
    "adm1_adjacent = gpd.read_file(os.path.join(path_admin, 'Adm1_adjacent.gpkg'))"
   ]
  },
  {
   "cell_type": "code",
   "execution_count": null,
   "id": "876ec0b4-6d2a-43fb-9d74-60269e55f2cb",
   "metadata": {},
   "outputs": [],
   "source": [
    "#list of all countries incl. wider study area plus adjacent countries\n",
    "adm_0 = ['Kenya', 'Ethiopia', 'South Sudan', 'Sudan', 'Somalia', 'Uganda', 'Djibouti', 'Eritrea', 'Tanzania', 'DR Congo (Zaire)', 'Central African Republic', 'Rwanda']\n",
    "#starting year for time period of analysis (temporal lag requires time period prior to 2004\n",
    "year_start = 2003"
   ]
  },
  {
   "cell_type": "code",
   "execution_count": null,
   "id": "ba8044a0-f048-4219-b75c-77389bdc4e5c",
   "metadata": {},
   "outputs": [],
   "source": [
    "#filter UCDP-GED data based on countries and time period\n",
    "df_plus_neighbours = df_ucdp_ged[(df_ucdp_ged.country.isin(adm_0)) & (df_ucdp_ged.year>=year_start)]\n",
    "#combine with information on type of non-state conflict\n",
    "df_plus_neighbours = df_plus_neighbours.join(df_com_organization, on=['dyad_new_id'], rsuffix='com')"
   ]
  },
  {
   "cell_type": "code",
   "execution_count": null,
   "id": "e472f596-d291-4c08-b2b5-48883d0302f4",
   "metadata": {},
   "outputs": [],
   "source": [
    "#filter by required spatial and temporal precision\n",
    "df_plus_neighbours_satprec = df_plus_neighbours[(df_plus_neighbours.where_prec<=4) & (df_plus_neighbours.date_start.dt.month==df_plus_neighbours.date_end.dt.month) & ~ ((df_plus_neighbours.country=='Kenya')&(df_plus_neighbours.date_start<='2013-03-03')&(df_plus_neighbours.where_prec==4))]"
   ]
  },
  {
   "cell_type": "code",
   "execution_count": null,
   "id": "43a01310-437d-49c2-8455-e23f3989d43e",
   "metadata": {},
   "outputs": [],
   "source": [
    "#remaining conflict records as georeferenced locations\n",
    "gdf_plus_neighbours_satprec = gpd.GeoDataFrame(gpd.GeoDataFrame(df_plus_neighbours_satprec, geometry=gpd.points_from_xy(df_plus_neighbours_satprec.longitude,df_plus_neighbours_satprec.latitude), crs='EPSG:4326'))"
   ]
  },
  {
   "cell_type": "code",
   "execution_count": null,
   "id": "ef32e30b-3ef0-498a-bc0a-1055eace8007",
   "metadata": {},
   "outputs": [],
   "source": [
    "#dataframe with all communal conflict records in adjacent areas\n",
    "gdf_plus_neighbours_com_satprec = gdf_plus_neighbours_satprec[(gdf_plus_neighbours_satprec.type_of_violence == 2)&(gdf_plus_neighbours_satprec.org==3)]"
   ]
  },
  {
   "cell_type": "code",
   "execution_count": null,
   "id": "d535f3e5-953e-410e-a48a-de129a082773",
   "metadata": {},
   "outputs": [],
   "source": [
    "#dataframe with other conflict records in adjacent areas\n",
    "gdf_plus_neighbours_oc_satprec = gdf_plus_neighbours_satprec[(gdf_plus_neighbours_satprec.type_of_violence.isin([1,3])) | (gdf_plus_neighbours_satprec.org!=3)]"
   ]
  },
  {
   "cell_type": "code",
   "execution_count": null,
   "id": "ec3b2265-ee23-4405-9c3a-6c0348fab356",
   "metadata": {},
   "outputs": [],
   "source": [
    "#monthly eventcount variables for adjacent areas\n",
    "# list of counties for which there has been communal conflict (compare to prior script on communal conflict preprocessing in wider SA)\n",
    "counties_SA = ['Afar', 'Gambela Peoples', 'Oromia', 'Southern Nations, Nationalities and Peoples', 'Benshangul-Gumaz', 'Somali', 'Dire Dawa', 'Amhara', 'Addis Abeba', 'Harari People', 'Eastern Equatoria', 'Mandera',\n",
    " 'Turkana', 'Nakuru', 'Laikipia', 'Uasin Gishu', 'Trans Nzoia', 'Kericho', 'Mombasa', 'Nairobi', 'Kisumu', 'Bungoma', 'West Pokot', 'Samburu', 'Baringo', 'Wajir', 'Isiolo', 'Narok', 'Elgeyo-Marakwet', 'Marsabit',\n",
    " 'Meru', 'Tana River', 'Shabeellaha Dhexe', 'Hiiraan', 'Galguduud', 'Bay', 'Banaadir', 'Mudug', 'Gedo', 'Jubbada Hoose', 'Togdheer', 'Sool', 'Sanaag', 'Jungoli', 'Lakes', 'Unity', 'Warap', 'Upper Nile', 'Central Equatoria',\n",
    " 'North Bahr-al-Ghazal', 'West Bahr-al-Ghazal', 'West Equatoria', 'Moroto', 'Katakwi', 'Kotido', 'Kapchorwa', 'Nakapiripirit', 'Lira', 'Bundibugyo']\n",
    "\n",
    "#loop through admin-1 units of wider study area\n",
    "for i in range(len(counties_SA)):\n",
    "    county =counties_SA[i]\n",
    "    \n",
    "    #retrieve monthly adjacent conflict & count events per month\n",
    "    adm1_adjacent[adm1_adjacent.NAME_1==county]\n",
    "    gdf_countyneighb_com_satprec = gpd.clip(gdf_plus_neighbours_com_satprec, adm1_adjacent[adm1_adjacent.NAME_1==county])\n",
    "    eventcount_countyneighb_com = gdf_countyneighb_com_satprec.groupby([pd.Grouper(key='date_start', freq='M')]).size()\n",
    "    gdf_countyneighb_oc_satprec = gpd.clip(gdf_plus_neighbours_oc_satprec, adm1_adjacent[adm1_adjacent.NAME_1==county])\n",
    "    eventcount_countyneighb_oc = gdf_countyneighb_oc_satprec.groupby([pd.Grouper(key='date_start', freq='M')]).size()\n",
    "    \n",
    "    ##filling months\n",
    "    #communal conflict\n",
    "    if len(eventcount_countyneighb_com) > 0:\n",
    "        first_months_com = pd.DataFrame(index=pd.date_range('2003-01-31', str(eventcount_countyneighb_com.index[0] - relativedelta(days=1)), freq='M'))\n",
    "        last_months_com = pd.DataFrame(index=pd.date_range(str(eventcount_countyneighb_com.index[-1] + relativedelta(months=1)), '2021-12-31', freq='M'))    \n",
    "        eventcount_countyneighb_com = pd.concat([first_months_com, eventcount_countyneighb_com, last_months_com]).rename({0: 'conflict_count'}, axis=1).fillna(0)\n",
    "    #all other conflict\n",
    "    if len(eventcount_countyneighb_oc) > 0:\n",
    "        first_months_oc = pd.DataFrame(index=pd.date_range('2003-01-31', str(eventcount_countyneighb_oc.index[0] - relativedelta(days=1)), freq='M'))\n",
    "        last_months_oc = pd.DataFrame(index=pd.date_range(str(eventcount_countyneighb_oc.index[-1] + relativedelta(months=1)), '2021-12-31', freq='M'))\n",
    "        eventcount_countyneighb_oc = pd.concat([first_months_oc, eventcount_countyneighb_oc, last_months_oc]).rename({0: 'conflict_count'}, axis=1).fillna(0)\n",
    "    \n",
    "    #combine communal and other conflict into one dataframe\n",
    "    df_eventcount_countyneighb = pd.DataFrame()\n",
    "    \n",
    "    df_eventcount_countyneighb['com'] = eventcount_countyneighb_com\n",
    "    \n",
    "    df_eventcount_countyneighb['oc'] = eventcount_countyneighb_oc\n",
    "    df_eventcount_countyneighb['county'] = county\n",
    "    \n",
    "    #concatenating resulting count dataframes for the different counties\n",
    "    if i == 0:\n",
    "        df_eventcount_neighb = df_eventcount_countyneighb.copy()\n",
    "    else:\n",
    "        df_eventcount_neighb = pd.concat([df_eventcount_neighb, df_eventcount_countyneighb])"
   ]
  },
  {
   "cell_type": "code",
   "execution_count": null,
   "id": "655d3ff8-96e9-4e1e-b89a-ab813ec701ef",
   "metadata": {},
   "outputs": [],
   "source": [
    "#create binary conflict/no conflict variable for spatial lag of different variables\n",
    "df_eventbool_neighb = df_eventcount_neighb\n",
    "df_eventbool_neighb.loc[:, ['com', 'oc']] = df_eventbool_neighb.loc[:, ['com', 'oc']] > 0"
   ]
  },
  {
   "cell_type": "code",
   "execution_count": null,
   "id": "55861c96-0519-4e1a-a342-eff48b26c855",
   "metadata": {},
   "outputs": [],
   "source": [
    "#lag spatial conflict variable by one month\n",
    "df_eventbool_neighb_lagged = df_eventbool_neighb.shift(1, freq='M')"
   ]
  },
  {
   "cell_type": "code",
   "execution_count": null,
   "id": "595f2ff2-1130-4252-bd92-61a2b5999df7",
   "metadata": {},
   "outputs": [],
   "source": [
    "#crop variable to 2004\n",
    "df_eventbool_neighb_lagged =df_eventbool_neighb_lagged[df_eventbool_neighb_lagged.index.year>=2004]"
   ]
  },
  {
   "cell_type": "code",
   "execution_count": null,
   "id": "5d76e63a-6b10-4099-894c-a3435c0c4f3d",
   "metadata": {},
   "outputs": [],
   "source": [
    "#check for null values\n",
    "df_eventbool_neighb_lagged.reset_index().set_index(['index', 'county']).unstack().isnull().sum().sum()"
   ]
  },
  {
   "cell_type": "code",
   "execution_count": null,
   "id": "88c08f1a-e2c1-46ff-8c12-72d85e89cbe0",
   "metadata": {},
   "outputs": [],
   "source": [
    "#store variable as RF input\n",
    "df_eventbool_neighb_lagged.to_csv(os.path.join(path_conflict, 'RF_input', 'spilloverconflict_t-1.csv'))"
   ]
  },
  {
   "cell_type": "markdown",
   "id": "a42351db-fb61-43a7-b1f0-c5bc03b706fd",
   "metadata": {},
   "source": [
    "## Time since last com conflict (input for RF Model)"
   ]
  },
  {
   "cell_type": "code",
   "execution_count": null,
   "id": "22d4e6e7-7245-4e67-8ae3-868b03e885eb",
   "metadata": {},
   "outputs": [],
   "source": [
    "#determine scope of retrieval\n",
    "year_start = 1989\n",
    "adm_0 = ['Kenya', 'Ethiopia', 'South Sudan', 'Sudan', 'Somalia', 'Uganda']"
   ]
  },
  {
   "cell_type": "code",
   "execution_count": null,
   "id": "0072b81e-f339-4170-8a59-68062cfece4e",
   "metadata": {},
   "outputs": [],
   "source": [
    "#filter dataframe according to these characteristics\n",
    "df_HoA = df_ucdp_ged_comorg[(df_ucdp_ged_comorg.country.isin(adm_0)) & (df_ucdp_ged_comorg.year>=year_start)]\n",
    "\n",
    "#only retrieve communal conflict\n",
    "df_HoA_com = df_HoA[(df_HoA.type_of_violence == 2) & (df_HoA.org == 3)]\n",
    "\n",
    "#apply spatial and temporal precision requirements\n",
    "df_HoA_com_satprec = df_HoA_com[(df_HoA_com.where_prec<=4) & (df_HoA_com.date_start.dt.month==df_HoA_com.date_end.dt.month) & ~ ((df_HoA_com.country=='Kenya')&(df_HoA_com.date_start<='2013-03-03')&(df_HoA_com.where_prec==4))]\n",
    "df_HoA_com_ucomatprec = df_HoA_com[(df_HoA_com.where_prec>4) | (df_HoA_com.date_start.dt.month!=df_HoA_com.date_end.dt.month) |((df_HoA_com.country=='Kenya')&(df_HoA_com.date_start<='2013-03-03')&(df_HoA_com.where_prec==4))]"
   ]
  },
  {
   "cell_type": "code",
   "execution_count": null,
   "id": "43339007-6f92-401d-850f-6e8bff70a389",
   "metadata": {},
   "outputs": [],
   "source": [
    "#clipping data\n",
    "gadm_countries = ['KEN', 'SSD', 'SOM', 'UGA'] #countries except for Ethiopia because of different way the GADM information is stored for Ethiopia\n",
    "\n",
    "#transform communal conflict information into georeferenced points\n",
    "gdf_HoA_com_satprec = gpd.GeoDataFrame(df_HoA_com_satprec, geometry=gpd.points_from_xy(df_HoA_com_satprec.longitude,df_HoA_com_satprec.latitude), crs='EPSG:4326') \n",
    "\n",
    "#loop through all countries and admin-1 levels to clip all conflict events of sufficient precision to the respective admin-1 level\n",
    "for country in gadm_countries:\n",
    "    adm_bound = gpd.read_file(os.path.join(path_admin, r'raw\\GADM3.6\\%s'%(country), 'gadm36_%s.gpkg'%(country)))\n",
    "    adm1_bound = adm_bound.dissolve(by='NAME_1').loc[:, ['GID_1', 'geometry']] #dissolve GADM information to shapefile of admin-1 unit\n",
    "    for county in adm1_bound.index:\n",
    "        \n",
    "        # clip conflict events to shapefile\n",
    "        gdf_county_com_satprec = gpd.clip(gdf_HoA_com_satprec, adm1_bound.loc[[county]])\n",
    "\n",
    "        #save county information and GID_1 to conflict dataframe\n",
    "        gdf_HoA_com_satprec.loc[gdf_county_com_satprec.index, ['county', 'GID_1']] = [county, adm1_bound.loc[county, 'GID_1'][:-2]]"
   ]
  },
  {
   "cell_type": "code",
   "execution_count": null,
   "id": "9ac49f6e-b509-42d0-a999-db49a0568c82",
   "metadata": {},
   "outputs": [],
   "source": [
    "country = 'ETH' #for Ethiopia level 1 polygocom missing in gpkg file\n",
    "adm1_bound = gpd.read_file(os.path.join(path_admin, r'raw\\GADM3.6\\%s'%(country), 'gadm36_%s_1.shp'%(country))).loc[:, ['NAME_1', 'GID_1', 'geometry']].set_index('NAME_1')\n",
    "\n",
    "for county in adm1_bound.index:\n",
    "    #clip conflict events to shapefile\n",
    "    gdf_county_com_satprec = gpd.clip(gdf_HoA_com_satprec, adm1_bound.loc[[county]])\n",
    "\n",
    "    #save county information and GID_1 to conflict dataframe\n",
    "    gdf_HoA_com_satprec.loc[gdf_county_com_satprec.index, ['county', 'GID_1']] = [county, adm1_bound.loc[county, 'GID_1'][:-2]]"
   ]
  },
  {
   "cell_type": "code",
   "execution_count": null,
   "id": "e3259333-e7ca-4419-949d-b4c4c2b6eaee",
   "metadata": {},
   "outputs": [],
   "source": [
    "#Conflict count and boolean at monthly time scales per administrative unit\n",
    "\n",
    "#list of all counties in the entire dataframe\n",
    "counties = gdf_HoA_com_satprec.county.unique()\n",
    "counties = [x for x in counties if str(x) != 'nan']\n",
    "\n",
    "#monthly eventcount per administrative unit\n",
    "for i in range(0,len(counties)):\n",
    "\n",
    "    #group conflict events by month and count them\n",
    "    county=counties[i]\n",
    "    countyspec_df_com_county_eventcount = gdf_HoA_com_satprec[gdf_HoA_com_satprec.county==county].groupby([pd.Grouper(key='date_start', freq='M'), 'county', 'GID_1']).size().unstack(['county', 'GID_1'])\n",
    "\n",
    "    #fill eventcounts to first to last month of time period of analysis (2004-2021)\n",
    "    first_months = pd.DataFrame(index=pd.date_range('1989-01-31', str(countyspec_df_com_county_eventcount.index[0] - relativedelta(days=1)), freq='M'), columns=countyspec_df_com_county_eventcount.columns)\n",
    "    last_months = pd.DataFrame(index=pd.date_range(str(countyspec_df_com_county_eventcount.index[-1] + relativedelta(months=1)), '2021-12-31', freq='M'), columns=countyspec_df_com_county_eventcount.columns)\n",
    "    countyspec_df_com_county_eventcount = pd.concat([first_months, countyspec_df_com_county_eventcount, last_months])\n",
    "\n",
    "    #store as frequency\n",
    "    countyspec_df_com_county_eventcount = countyspec_df_com_county_eventcount.resample('M').asfreq().fillna(0).stack(['county', 'GID_1'])\n",
    "\n",
    "    #combine dataframes for all administrative units\n",
    "    if i == 0:\n",
    "        df_com_county_eventcount = countyspec_df_com_county_eventcount.copy()\n",
    "\n",
    "    else:\n",
    "        df_com_county_eventcount = pd.concat([df_com_county_eventcount, countyspec_df_com_county_eventcount])\n",
    "\n",
    "        \n",
    "\n",
    "#derive conflict/no conflict dataframe from monthly eventcount\n",
    "df_com_county_eventbool = (df_com_county_eventcount > 0)"
   ]
  },
  {
   "cell_type": "code",
   "execution_count": null,
   "id": "bbc44b06-5e7d-465b-be42-4ada9e220f79",
   "metadata": {},
   "outputs": [],
   "source": [
    "#store as DataFrame\n",
    "df_com_county_eventbool = pd.DataFrame(df_com_county_eventbool)\n",
    "\n",
    "#unstack (single column for each county)\n",
    "df_com_county_eventbool_us = df_com_county_eventbool.unstack(['county', 'GID_1'])\n",
    "\n",
    "#initialize dataframe for time since last communal conflict\n",
    "df_timesinceconflict = pd.DataFrame(np.zeros_like(df_com_county_eventbool_us, dtype=float), index=df_com_county_eventbool_us.index, columns =df_com_county_eventbool_us.columns)"
   ]
  },
  {
   "cell_type": "code",
   "execution_count": null,
   "id": "e13e384b-84af-4311-afaf-5c951cb59fc6",
   "metadata": {},
   "outputs": [],
   "source": [
    "#looop through each county and each index\n",
    "\n",
    "for col in range(len(df_com_county_eventbool_us.columns)):\n",
    "    for i in range(len(df_com_county_eventbool_us)):\n",
    "        \n",
    "        #assign null as long as there has been no conflict recorded before\n",
    "        if df_com_county_eventbool_us.iloc[:i, col].sum()==0:\n",
    "            df_timesinceconflict.iloc[i, col] = np.nan\n",
    "            \n",
    "            #assign one if the first conflict event has been recorded\n",
    "            if df_com_county_eventbool_us.iloc[i, col] == True:\n",
    "                c = 1\n",
    "        #assign one if a conflict event has been recorded\n",
    "        elif df_com_county_eventbool_us.iloc[i, col] == True:\n",
    "            df_timesinceconflict.iloc[i, col] = c\n",
    "            c = 1\n",
    "        #add one if no conflict event has been recorded (but there have been conflict events in the same county before\n",
    "        else:\n",
    "            df_timesinceconflict.iloc[i, col] = c\n",
    "            c += 1\n"
   ]
  },
  {
   "cell_type": "code",
   "execution_count": null,
   "id": "20d0173c-97e3-43ef-ba76-c8713cbc51c1",
   "metadata": {},
   "outputs": [],
   "source": [
    "#crop variable to time of analysis\n",
    "df_timesinceconflict = df_timesinceconflict[df_timesinceconflict.index.year>=2004]"
   ]
  },
  {
   "cell_type": "code",
   "execution_count": null,
   "id": "56293a9c-8b7a-4d52-a309-eb75100e881d",
   "metadata": {},
   "outputs": [],
   "source": [
    "#fill null values in variable time since conflict with the maximum period of no conflict which has been recorded\n",
    "df_timesinceconflict = df_timesinceconflict.fillna(df_timesinceconflict.max().max()) # filling nan values with the maximum time period -> sufficient for Random Forest application"
   ]
  },
  {
   "cell_type": "code",
   "execution_count": null,
   "id": "7eaee224-7461-41c3-ab59-9c9a0aa31960",
   "metadata": {},
   "outputs": [],
   "source": [
    "#stack and store variable time since last communal conflict as a RF input variable\n",
    "df_timesinceconflict.stack(['GID_1', 'county']).to_csv(os.path.join(path_conflict, 'RF_input', 'timesinceconflict.csv'))"
   ]
  }
 ],
 "metadata": {
  "kernelspec": {
   "display_name": "Python 3 (ipykernel)",
   "language": "python",
   "name": "python3"
  },
  "language_info": {
   "codemirror_mode": {
    "name": "ipython",
    "version": 3
   },
   "file_extension": ".py",
   "mimetype": "text/x-python",
   "name": "python",
   "nbconvert_exporter": "python",
   "pygments_lexer": "ipython3",
   "version": "3.9.16"
  }
 },
 "nbformat": 4,
 "nbformat_minor": 5
}
