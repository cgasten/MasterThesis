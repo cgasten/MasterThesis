{
 "cells": [
  {
   "cell_type": "markdown",
   "id": "644ff2ae-ab9c-4fe5-a5a9-89660d1a5734",
   "metadata": {},
   "source": [
    "# Mapping of drought to Conflict Data"
   ]
  },
  {
   "cell_type": "markdown",
   "id": "79c9da90-601e-4eb4-b947-6e7569750f6e",
   "metadata": {},
   "source": [
    "## Settings"
   ]
  },
  {
   "cell_type": "code",
   "execution_count": 39,
   "id": "2559c87d-78f0-4856-ab6c-e57d06ae94c8",
   "metadata": {},
   "outputs": [],
   "source": [
    "\n",
    "import os\n",
    "import pandas as pd\n",
    "import re\n",
    "import numpy as np\n",
    "import datetime as dt"
   ]
  },
  {
   "cell_type": "code",
   "execution_count": 2,
   "id": "2eceb961-f0ec-4516-923b-28f26ab27ec2",
   "metadata": {},
   "outputs": [],
   "source": [
    "path_drought = r'C:\\Users\\gasten\\OneDrive - Stichting Deltares\\Documents\\02_Data\\01_Meteorological_Data\\ERA5\\04_DIs\\HoA'\n",
    "path_conflict = r'C:\\Users\\gasten\\OneDrive - Stichting Deltares\\Documents\\02_Data\\04_Conflict_Data'\n",
    "path_mapping = r'C:\\Users\\gasten\\OneDrive - Stichting Deltares\\Documents\\02_Data\\06_Drought_Conflict_Mapping'"
   ]
  },
  {
   "cell_type": "markdown",
   "id": "8ad7209c-fdcb-4be1-ae39-e076e10f2e36",
   "metadata": {},
   "source": [
    "## Functions"
   ]
  },
  {
   "cell_type": "code",
   "execution_count": 3,
   "id": "4a2a4299-89da-4b1a-bb87-656c407a5a45",
   "metadata": {},
   "outputs": [],
   "source": [
    "def DI_conflict_mapping(conflict_df, DI_df, dt, spat_dim='county'):\n",
    "    DI_df['time'] = DI_df.set_index('time').index.shift(dt, freq='M')\n",
    "    mapping_df = pd.merge(left = conflict_df, right=DI_df, on=['time', spat_dim])\n",
    "    mapping_df['year'] = mapping_df.time.dt.year\n",
    "    mapping_df['conflict_boolean'] = mapping_df.conflict_boolean.replace({True: 1, False: 0})\n",
    "    return mapping_df"
   ]
  },
  {
   "cell_type": "markdown",
   "id": "ec940738-b55d-4555-92f9-647e3dd5e74a",
   "metadata": {},
   "source": [
    "## Mapping of drought data to conflict data on admin-level"
   ]
  },
  {
   "cell_type": "code",
   "execution_count": 29,
   "id": "a99dcaa3-5fe9-4bda-84b6-1627f49637ce",
   "metadata": {},
   "outputs": [],
   "source": [
    "# open conflict data file\n",
    "file_conflict = os.path.join(path_conflict, 'monthly_adm_com_conflict', 'HoA_eventbool.csv')\n",
    "df_conflict = pd.read_csv(file_conflict, parse_dates=['Unnamed: 0']).rename({'Unnamed: 0': 'time', '0': 'conflict_boolean'}, axis=1)"
   ]
  },
  {
   "cell_type": "code",
   "execution_count": 26,
   "id": "6adeb836-6190-48ac-af7b-0dc7088f9b0c",
   "metadata": {},
   "outputs": [],
   "source": [
    "for DI_name in ['SPI-1', 'SPI-3', 'SPI-6', 'SPI-12', 'SPEI-1', 'SPEI-3', 'SPEI-6', 'SPEI-12']:\n",
    "    regex = r\"([A-Z]{3})-%s-(.*)\\.csv\"%(DI_name)\n",
    "    try:\n",
    "        files = [file for file in os.scandir(os.path.join(path_drought, DI_name[:3], 'stats')) if re.match(regex, file.name)]\n",
    "    except FileNotFoundError:\n",
    "        files = [file for file in os.scandir(os.path.join(path_drought, DI_name[:4], 'stats')) if re.match(regex, file.name)]\n",
    "    for i in range(len(files)):\n",
    "        file_split = re.match(regex, files[i].name)\n",
    "        adm1_name = file_split.group(2)\n",
    "        df_DI_adm1 = pd.read_csv(files[i], parse_dates=['time'])\n",
    "        df_DI_adm1['county'] = adm1_name\n",
    "        if i == 0:\n",
    "            df_DI = df_DI_adm1\n",
    "        else:\n",
    "            df_DI = pd.concat([df_DI, df_DI_adm1])\n",
    "    for dt in np.arange(0,8):\n",
    "        mapped = DI_conflict_mapping(df_conflict, df_DI.copy(), dt)\n",
    "        mapped.to_csv(os.path.join(path_mapping, 'adm_%s_lag%i_conflict.csv'%(DI_name, dt)))\n",
    "        mapped_dry = mapped.copy()\n",
    "        mapped_dry.iloc[:, 4:-2] = mapped_dry.iloc[:, 4:-2].where(mapped_dry.iloc[:, 4:-2]<0,0)\n",
    "        mapped_dry.to_csv(os.path.join(path_mapping, 'adm_%s_dry_lag%i_conflict.csv'%(DI_name, dt)))\n",
    "        mapped_wet = mapped.copy()\n",
    "        mapped_wet.iloc[:, 4:-2] = mapped_wet.iloc[:, 4:-2].where(mapped_wet.iloc[:, 4:-2]>0,0) \n",
    "        mapped_wet.to_csv(os.path.join(path_mapping, 'adm_%s_wet_lag%i_conflict.csv'%(DI_name, dt)))"
   ]
  },
  {
   "cell_type": "markdown",
   "id": "0a042074-fb87-4f49-96ba-ec2dea70b420",
   "metadata": {},
   "source": [
    "## Mapping of drought data to conflict data on ethnic group level"
   ]
  },
  {
   "cell_type": "code",
   "execution_count": 54,
   "id": "f314e524-1cb8-43b3-ac43-4032a14a069b",
   "metadata": {},
   "outputs": [],
   "source": [
    "file_conflict = os.path.join(path_conflict, 'monthly_ethgroup_com_conflict', 'eventbool.csv')\n",
    "df_conflict = pd.read_csv(file_conflict, names = ['time', 'eth_group', 'conflict_boolean'], header=0, parse_dates=[0])#.set_index('date_start').stack()).rename({0: 'conflict_boolean'}, axis=1)\n",
    "df_conflict['time'] = df_conflict['time'].dt.normalize()"
   ]
  },
  {
   "cell_type": "code",
   "execution_count": 55,
   "id": "071a83d3-b83a-401b-8610-4c6b501444cd",
   "metadata": {},
   "outputs": [],
   "source": [
    "for DI_name in ['SPI-1', 'SPI-3', 'SPI-6', 'SPI-12', 'SPEI-1', 'SPEI-3', 'SPEI-6', 'SPEI-12']:\n",
    "    regex = r\"Eth_%s-(.*)\\.csv\"%(DI_name)\n",
    "    try:\n",
    "        files = [file for file in os.scandir(os.path.join(path_drought, DI_name[:3], 'stats', 'Ethnic_group')) if re.match(regex, file.name)]\n",
    "    except FileNotFoundError:\n",
    "        files = [file for file in os.scandir(os.path.join(path_drought, DI_name[:4], 'stats', 'Ethnic_group')) if re.match(regex, file.name)]\n",
    "    for i in range(len(files)):\n",
    "        file_split = re.match(regex, files[i].name)\n",
    "        eth_name = file_split.group(1)\n",
    "        df_DI_eth = pd.read_csv(files[i], parse_dates=['time'])\n",
    "        df_DI_eth['eth_group'] = eth_name\n",
    "        if i == 0:\n",
    "            df_DI = df_DI_eth.copy()\n",
    "        else:\n",
    "            df_DI = pd.concat([df_DI, df_DI_eth])\n",
    "    for dt in np.arange(0,8):\n",
    "        mapped = DI_conflict_mapping(df_conflict, df_DI.copy(), dt, spat_dim='eth_group')\n",
    "        mapped.to_csv(os.path.join(path_mapping, 'eth_%s_lag%i_conflict.csv'%(DI_name, dt)))\n",
    "        mapped_dry = mapped.copy()\n",
    "        mapped_dry.iloc[:, 3:-2] = mapped_dry.iloc[:, 3:-2].where(mapped_dry.iloc[:, 3:-2]<0,0)\n",
    "        mapped_dry.to_csv(os.path.join(path_mapping, 'eth_%s_dry_lag%i_conflict.csv'%(DI_name, dt)))\n",
    "        mapped_wet = mapped.copy()\n",
    "        mapped_wet.iloc[:, 3:-2] = mapped_wet.iloc[:, 3:-2].where(mapped_wet.iloc[:, 3:-2]>0,0) \n",
    "        mapped_wet.to_csv(os.path.join(path_mapping, 'eth_%s_wet_lag%i_conflict.csv'%(DI_name, dt)))"
   ]
  }
 ],
 "metadata": {
  "kernelspec": {
   "display_name": "Python 3 (ipykernel)",
   "language": "python",
   "name": "python3"
  },
  "language_info": {
   "codemirror_mode": {
    "name": "ipython",
    "version": 3
   },
   "file_extension": ".py",
   "mimetype": "text/x-python",
   "name": "python",
   "nbconvert_exporter": "python",
   "pygments_lexer": "ipython3",
   "version": "3.9.16"
  }
 },
 "nbformat": 4,
 "nbformat_minor": 5
}
