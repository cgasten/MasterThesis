{
 "cells": [
  {
   "cell_type": "markdown",
   "id": "2fab6114-3fce-42a1-a058-ec107f3ea031",
   "metadata": {},
   "source": [
    "# ERA5 Data to Daily Resolution"
   ]
  },
  {
   "cell_type": "markdown",
   "id": "e20afef7-5cad-4dcc-9270-32b37f127497",
   "metadata": {},
   "source": [
    "@author: Caroline Gasten\n",
    "The script transforms all data needed for calculating the SPI and SPEI from ERA5 data from hourly to daily time steps.\n",
    "- For temperature and dewpoint temperature, daily minima and maxima are calculated\n",
    "- Hourly precipitation, surface net solar and surface net thermal radiation values are summed over 24h\n",
    "- For mean sea level pressure and wind components the mean is used"
   ]
  },
  {
   "cell_type": "markdown",
   "id": "6e236a72-baa9-4deb-85dc-8d7f48fa7adb",
   "metadata": {},
   "source": [
    "## Settings"
   ]
  },
  {
   "cell_type": "code",
   "execution_count": 1,
   "id": "c355f328-1703-42e4-b9f1-c7a93c9e4bfe",
   "metadata": {},
   "outputs": [],
   "source": [
    "# importing necessary packages\n",
    "import xarray as xr\n",
    "import os\n",
    "import rioxarray\n",
    "import cftime"
   ]
  },
  {
   "cell_type": "code",
   "execution_count": 2,
   "id": "c9aefa14-8553-412c-a1fe-9c705d6c9b79",
   "metadata": {},
   "outputs": [],
   "source": [
    "#paths\n",
    "path_input = #path to raw ERA5 data\n",
    "path_output = #path to directory with daily ERA5 data"
   ]
  },
  {
   "cell_type": "code",
   "execution_count": 3,
   "id": "45ab9ec0-f61c-4557-b3aa-482f2caa5d9f",
   "metadata": {},
   "outputs": [],
   "source": [
    "#group variables by aggregation type\n",
    "variables_minmax = ['t2m', '2d'] \n",
    "variables_sum = ['ssr', 'tp', 'str']\n",
    "variables_mean = ['msl', 'u10', 'v10']"
   ]
  },
  {
   "cell_type": "markdown",
   "id": "401ce465-ed75-4d05-8ba9-b11224e7d547",
   "metadata": {},
   "source": [
    "## Daily minimum and maximum of temperature data and dewpoint temperature data"
   ]
  },
  {
   "cell_type": "markdown",
   "id": "5845739d-d46f-48ed-8e85-f96b273f570b",
   "metadata": {},
   "source": [
    "Hourly data in the ERA5 dataset is always saved to the end of the time step if not instantaneous. For example, total precipitation data for 2002 includes the data from 2001-12-31 23:00:00 until 2002-12-31 23:00:00. Therefore, always the first hour of the next year is included and the first hour of the present year is discarded to compile the data to daily resolution with the daily interval starting at 12AM and going up to 12AM the next day."
   ]
  },
  {
   "cell_type": "code",
   "execution_count": null,
   "id": "2d6e121e-3058-4d94-837d-a83c5f69a5a4",
   "metadata": {},
   "outputs": [],
   "source": [
    "for year in range(1993, 2023):\n",
    "    print(year)\n",
    "    for i in range(len(variables_minmax)):\n",
    "        variable = variables_minmax[i]\n",
    "        print(variable)\n",
    "        \n",
    "        #file paths for input and output files\n",
    "        file_in = os.path.join(path_input, 'era5_%s_%4d.nc' %(variable, year))\n",
    "        file_in2 = os.path.join(path_input, 'era5_%s_%4d.nc' %(variable, year+1))\n",
    "        file_out_max = os.path.join(path_output, 'era5_%s_%4d_daily.nc' %(variable + 'max', year))\n",
    "        file_out_min = os.path.join(path_output, 'era5_%s_%4d_daily.nc' %(variable + 'min', year))\n",
    "        \n",
    "        #open hourly datasets for year and subsequent year to get the first hour of the first day from the subsequent year\n",
    "        ds = rioxarray.open_rasterio(file_in, mask_and_scale=True)\n",
    "        ds2 = rioxarray.open_rasterio(file_in2, mask_and_scale=True).isel(time=0)\n",
    "        \n",
    "        #concatenate datasets\n",
    "        ds = xr.concat([ds, ds2], dim='time')\n",
    "        \n",
    "        #aggregation to daily\n",
    "        ds_max = ds.resample(time='D', closed='right').max().sel(time=slice(cftime.DatetimeGregorian(year, 1, 1, 0, 0, 0, 0, has_year_zero=False), cftime.DatetimeGregorian(year, 12, 31, 0, 0, 0, 0, has_year_zero=False)))\n",
    "        ds_min = ds.resample(time='D', closed='right').min().sel(time=slice(cftime.DatetimeGregorian(year, 1, 1, 0, 0, 0, 0, has_year_zero=False), cftime.DatetimeGregorian(year, 12, 31, 0, 0, 0, 0, has_year_zero=False)))\n",
    "        \n",
    "        #save output\n",
    "        ds_max.to_netcdf(file_out_max)\n",
    "        ds_min.to_netcdf(file_out_min)"
   ]
  },
  {
   "cell_type": "markdown",
   "id": "a49d22fb-a913-4fb9-b332-97aa05b67811",
   "metadata": {},
   "source": [
    "## Daily sum of total precipitation, surface net solar and surface net thermal radiation"
   ]
  },
  {
   "cell_type": "code",
   "execution_count": null,
   "id": "d2e1d569-6693-423c-aff2-24854e83a18d",
   "metadata": {},
   "outputs": [],
   "source": [
    "for year in range(1993, 2023):\n",
    "    print(year)\n",
    "    for i in range(len(variables_sum)):\n",
    "        variable = variables_sum[i]\n",
    "        print(variable)\n",
    "        \n",
    "        #file paths for input and output files\n",
    "        file_in = os.path.join(path_input, 'era5_%s_%4d.nc' %(variable, year))\n",
    "        file_in2 = os.path.join(path_input, 'era5_%s_%4d.nc' %(variable, year+1))\n",
    "        file_out = os.path.join(path_output, 'era5_%s_%4d_daily.nc' %(variable, year))\n",
    "        \n",
    "        #open hourly datasets for year and subsequent year to get the first hour of the first day from the subsequent year\n",
    "        ds = rioxarray.open_rasterio(file_in, mask_and_scale=True)\n",
    "        ds2 = rioxarray.open_rasterio(file_in2, mask_and_scale=True).isel(time=0)\n",
    "        \n",
    "        #concatenate datasets\n",
    "        ds = xr.concat([ds, ds2], dim='time')\n",
    "        \n",
    "        #fill below zero precipitation values with zero (small negative values in dataset result from closing the energy balance in ERA5)\n",
    "        if variable=='tp':\n",
    "            ds = xr.where(ds<0, 0, ds)\n",
    "        \n",
    "        #aggregation to daily\n",
    "        ds_sum = ds.resample(time='D').sum().sel(time=slice(cftime.DatetimeGregorian(year, 1, 1, 0, 0, 0, 0, has_year_zero=False), cftime.DatetimeGregorian(year, 12, 31, 0, 0, 0, 0, has_year_zero=False)))\n",
    "        \n",
    "        #save output\n",
    "        ds_sum.to_netcdf(file_out)\n",
    "        "
   ]
  },
  {
   "cell_type": "markdown",
   "id": "b68283a4-5f8b-4c22-acea-88c7c0c96655",
   "metadata": {},
   "source": [
    "## Daily mean of mean sea level pressure and wind components"
   ]
  },
  {
   "cell_type": "code",
   "execution_count": null,
   "id": "6a569c5d-0bab-4881-b88f-1ed9f5ed3070",
   "metadata": {},
   "outputs": [],
   "source": [
    "for year in range(1993, 2023):\n",
    "    print(year)\n",
    "    for i in range(len(variables_sum)):\n",
    "        variable = variables_mean[i]\n",
    "        print(variable)\n",
    "        \n",
    "        #file paths for input and output files\n",
    "        file_in = os.path.join(path_input, 'era5_%s_%4d.nc' %(variable, year))\n",
    "        file_in2 = os.path.join(path_input, 'era5_%s_%4d.nc' %(variable, year+1))\n",
    "        file_out = os.path.join(path_output, 'era5_%s_%4d_daily.nc' %(variable, year))\n",
    "        \n",
    "        #open hourly datasets for year and subsequent year to get the first hour of the first day from the subsequent year\n",
    "        ds = rioxarray.open_rasterio(file_in, mask_and_scale=True)\n",
    "        ds2 = rioxarray.open_rasterio(file_in2, mask_and_scale=True).isel(time=0)\n",
    "        \n",
    "        #concatenate datasets\n",
    "        ds = xr.concat([ds, ds2], dim='time')\n",
    "        \n",
    "        #aggregation to daily\n",
    "        ds_mean = ds.resample(time='D').mean().sel(time=slice(cftime.DatetimeGregorian(year, 1, 1, 0, 0, 0, 0, has_year_zero=False), cftime.DatetimeGregorian(year, 12, 31, 0, 0, 0, 0, has_year_zero=False)))\n",
    "        \n",
    "        #save output\n",
    "        ds_mean.to_netcdf(file_out)"
   ]
  },
  {
   "cell_type": "code",
   "execution_count": null,
   "id": "ee80b1be-62bc-46fb-9d20-acc6e76c6c20",
   "metadata": {},
   "outputs": [],
   "source": []
  }
 ],
 "metadata": {
  "kernelspec": {
   "display_name": "Python 3 (ipykernel)",
   "language": "python",
   "name": "python3"
  },
  "language_info": {
   "codemirror_mode": {
    "name": "ipython",
    "version": 3
   },
   "file_extension": ".py",
   "mimetype": "text/x-python",
   "name": "python",
   "nbconvert_exporter": "python",
   "pygments_lexer": "ipython3",
   "version": "3.9.16"
  }
 },
 "nbformat": 4,
 "nbformat_minor": 5
}
