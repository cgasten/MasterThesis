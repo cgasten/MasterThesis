{
 "cells": [
  {
   "cell_type": "markdown",
   "id": "63ac7dd0-144d-4e1d-bc2b-791007d0d543",
   "metadata": {},
   "source": [
    "# Calculation of Reference Evapotranspiration"
   ]
  },
  {
   "cell_type": "markdown",
   "id": "01992825-bcb0-4cab-b226-85dfa3f15ac3",
   "metadata": {},
   "source": [
    "@author: Caroline Gasten\n",
    "\n",
    "The present notebook calculates the reference evapotranspiration using the FAO Penman Monteith equation (https://www.fao.org/3/X0490E/x0490e00.htm)"
   ]
  },
  {
   "cell_type": "markdown",
   "id": "a2725197-e33f-4dfb-87d2-7bbf7da63039",
   "metadata": {},
   "source": [
    "# Settings"
   ]
  },
  {
   "cell_type": "code",
   "execution_count": null,
   "id": "13cf2e39-09eb-4e4f-929d-1145de093dc7",
   "metadata": {},
   "outputs": [],
   "source": [
    "# load packages\n",
    "import xarray as xr\n",
    "import os\n",
    "import numpy as np\n",
    "import rasterio\n",
    "from rasterio.enums import Resampling\n",
    "import rioxarray\n",
    "import matplotlib.pyplot as plt"
   ]
  },
  {
   "cell_type": "code",
   "execution_count": null,
   "id": "4b01bcbc-e836-4a72-b493-b73f782084f9",
   "metadata": {},
   "outputs": [],
   "source": [
    "#input paths\n",
    "path_input = #path to daily ERA5 data\n",
    "path_dem = #path to digital elevation model (DEM)\n",
    "\n",
    "#output path\n",
    "path_output = #path to store daily PET data"
   ]
  },
  {
   "cell_type": "code",
   "execution_count": null,
   "id": "745cab2c-49f3-4c47-982b-f80db56579ae",
   "metadata": {},
   "outputs": [],
   "source": [
    "#specification of spatial subset for DEM\n",
    "lons = slice(22.5, 51.75)\n",
    "lats = slice( 15.75, -4.75)"
   ]
  },
  {
   "cell_type": "markdown",
   "id": "9b07e4d5-58e4-4ccf-bfa2-fffdb945526c",
   "metadata": {},
   "source": [
    "## Required inputs & outputs\n",
    "|variable|variable name long|input unit|required unit/output unit|\n",
    "|---|---|---|---|\n",
    "|Tmax_d|maximum air temperature daily |K|C|\n",
    "|Tmin_d|minimum air temperature daily |K|C|\n",
    "|slr|surface net longwave radiation daily |J/(m2*day)|MJ/(m2*day)|\n",
    "|ssr|surface net shortwave radiation daily |J/(m2*day)|MJ/(m2*day)|\n",
    "|u_10|10-m wind speed u-component |m/s|m/s|\n",
    "|v_10|10-m wind speed v-component |m/s|m/s|\n",
    "|Tdew_2|2-m dewpoint temperature |K|C|\n",
    "|p_msl|mean sea level pressure |Pa|kPa|\n",
    "|dem|elevation from DEM |m|m|\n",
    "|ET_0|reference evapotranspiration|-|mm/day|\n",
    "\n"
   ]
  },
  {
   "cell_type": "markdown",
   "id": "554e5152-ad79-417d-a75a-6b19efe46f23",
   "metadata": {},
   "source": [
    "## Load DEM"
   ]
  },
  {
   "cell_type": "code",
   "execution_count": null,
   "id": "5e47aeaa-1696-40ab-954d-bff781accc34",
   "metadata": {},
   "outputs": [],
   "source": [
    "#load DEM\n",
    "dem = rioxarray.open_rasterio(os.path.join(path_dem, 'srtm_025deg_HoA.tiff'), mask_and_scale=True).sel(y=lats, x=lons, band=1)"
   ]
  },
  {
   "cell_type": "code",
   "execution_count": null,
   "id": "d5cde941-1f48-4df5-b77a-1c1d7ee6b4ad",
   "metadata": {},
   "outputs": [],
   "source": [
    "#check for null-values\n",
    "dem.isnull().plot()\n",
    "plt.title(\"Null values for the DEM\")"
   ]
  },
  {
   "cell_type": "markdown",
   "id": "d452263d-ee39-4bb9-a5a4-03a26544f6b0",
   "metadata": {},
   "source": [
    "## Functions to calculate reference evapotranspiration"
   ]
  },
  {
   "cell_type": "code",
   "execution_count": null,
   "id": "98eba2b8-aa93-4a01-9b19-e9ab0f2cd26c",
   "metadata": {},
   "outputs": [],
   "source": [
    "#function to calculate reference evapotranspiration\n",
    "def ref_ET(r_ss, r_sl, tmax, tmin, tdewmax, tdewmin, u10, v10, p_msl, dem):\n",
    "    # net radiation\n",
    "    r_n =  r_ss + r_sl #both formulated positive in downward direction\n",
    "    \n",
    "    # ground heat flux\n",
    "    G=0 #for daily calculations assumption that ground heat flux is 0\n",
    "    \n",
    "    #daily mean temperature\n",
    "    tmean = (tmax+tmin)/2\n",
    "    \n",
    "    #windspeed\n",
    "    ws10 = np.sqrt(u10**2 + v10**2)\n",
    "    ws2 = ws10*(4.87/np.log(67.8*10-5.42))\n",
    "    \n",
    "    #saturation and actual vapour pressure\n",
    "    e_s = (sat_vap_press(tmax) + sat_vap_press(tmin))/2\n",
    "    e_a = (sat_vap_press(tdewmax) + sat_vap_press(tdewmin))/2\n",
    "    \n",
    "    #slope of vapour pressure curve\n",
    "    Delta = 4098 * sat_vap_press(tmean) / (tmean + 237.3)**2\n",
    "    \n",
    "    # surface pressure using barometric formula\n",
    "    g = 9.80665 #m/s2\n",
    "    Mo = 0.0289644 #kg/mol \n",
    "    R_air = 8.3144621 #J/(mol*K)\n",
    "    lapse_rate = -0.0065 #K/m\n",
    "\n",
    "    power = -g * Mo / (R_air * lapse_rate)\n",
    "    p_fact = ((288.15 + lapse_rate*dem)/288.15)**power\n",
    "    p_surf = p_msl * p_fact\n",
    "    \n",
    "    #psychrometric constant\n",
    "    gamma = 0.665 * 10**(-3) * p_surf\n",
    "    \n",
    "    #calculation of reference evapotranspiration\n",
    "    num = 0.408 * Delta * (r_n - G) + gamma * 900 /(tmean + 273) * ws2 * (e_s - e_a)\n",
    "    denom = Delta + gamma * (1 + 0.34 * ws2)\n",
    "    ET_0 = num/denom\n",
    "    ET_0 = ET_0.rename('et0') #mm/day\n",
    "    \n",
    "    return ET_0"
   ]
  },
  {
   "cell_type": "code",
   "execution_count": null,
   "id": "707d3309-2c7d-4309-997a-f5b106580e9f",
   "metadata": {},
   "outputs": [],
   "source": [
    "#function to calculate saturation vapour pressure\n",
    "def sat_vap_press(T):\n",
    "    es_T = 0.6108 * np.exp(17.27 * T / (T+237.3))\n",
    "    return es_T"
   ]
  },
  {
   "cell_type": "markdown",
   "id": "d44ca0df-5a7d-4150-9634-bf5fc300442b",
   "metadata": {},
   "source": [
    "## Calculate daily reference evapotranspiration and save"
   ]
  },
  {
   "cell_type": "code",
   "execution_count": null,
   "id": "0de5b0db-c142-4079-a1a9-949f24ebb165",
   "metadata": {},
   "outputs": [],
   "source": [
    "#loop through years and calculate daily reference evapotranspiration based on daily input datasets\n",
    "for year in range(1993,2023):\n",
    "    print(year)\n",
    "    \n",
    "    #load datasets\n",
    "    tmax = xr.open_dataarray(os.path.join(path_input, 'era5_t2mmax_%04d_daily.nc' %(year))).sel(y=lats,x=lons) - 273.15 #K to C\n",
    "    tmin = xr.open_dataarray(os.path.join(path_input, 'era5_t2mmin_%04d_daily.nc' %(year))).sel(y=lats,x=lons) - 273.15 #K to C\n",
    "    tdewmax = xr.open_dataarray(os.path.join(path_input, 'era5_2dmax_%04d_daily.nc' %(year))).sel(y=lats,x=lons) - 273.15 #K to C\n",
    "    tdewmin = xr.open_dataarray(os.path.join(path_input, 'era5_2dmin_%04d_daily.nc' %(year))).sel(y=lats,x=lons) - 273.15  #K to C\n",
    "    u10 = xr.open_dataarray(os.path.join(path_input, 'era5_u10_%04d_daily.nc' %(year))).sel(y=lats,x=lons) # m/s\n",
    "    v10 = xr.open_dataarray(os.path.join(path_input, 'era5_v10_%04d_daily.nc' %(year))).sel(y=lats,x=lons) # m/s\n",
    "    p_msl = xr.open_dataarray(os.path.join(path_input, 'era5_msl_%04d_daily.nc' %(year))).sel(y=lats,x=lons) / 1000 # Pa to kPa\n",
    "    r_ss = xr.open_dataarray(os.path.join(path_input, 'era5_ssr_%04d_daily.nc' %(year))).sel(y=lats,x=lons) * 10**(-6) # J/m2 to MJ/m2\n",
    "    r_sl = xr.open_dataarray(os.path.join(path_input, 'era5_str_%04d_daily.nc' %(year))).sel(y=lats,x=lons) * 10**(-6) # J/m2 to MJ/m2\n",
    "    \n",
    "    #calculate reference evapotranspiration\n",
    "    ET_0 = ref_ET(r_ss, r_sl, tmax, tmin, tdewmax, tdewmin, u10, v10, p_msl, dem)\n",
    "    \n",
    "    ET_0.to_netcdf(os.path.join(path_output, 'PET_%04d_daily.nc' %(year)))           "
   ]
  }
 ],
 "metadata": {
  "kernelspec": {
   "display_name": "Python 3 (ipykernel)",
   "language": "python",
   "name": "python3"
  },
  "language_info": {
   "codemirror_mode": {
    "name": "ipython",
    "version": 3
   },
   "file_extension": ".py",
   "mimetype": "text/x-python",
   "name": "python",
   "nbconvert_exporter": "python",
   "pygments_lexer": "ipython3",
   "version": "3.9.16"
  }
 },
 "nbformat": 4,
 "nbformat_minor": 5
}
